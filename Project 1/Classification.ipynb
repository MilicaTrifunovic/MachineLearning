{
 "cells": [
  {
   "cell_type": "markdown",
   "id": "08706afc",
   "metadata": {},
   "source": [
    "# Diabetes risk prediction"
   ]
  },
  {
   "cell_type": "markdown",
   "id": "f756acd6",
   "metadata": {},
   "source": [
    "Dataset: http://archive.ics.uci.edu/ml/datasets/Early+stage+diabetes+risk+prediction+dataset."
   ]
  },
  {
   "cell_type": "markdown",
   "id": "42fd120e",
   "metadata": {},
   "source": [
    "### Importing necessary packages"
   ]
  },
  {
   "cell_type": "code",
   "execution_count": 75,
   "id": "2ace0069",
   "metadata": {},
   "outputs": [],
   "source": [
    "import pandas as pd\n",
    "import numpy as np\n",
    "import random\n",
    "import matplotlib.pyplot as plt\n",
    "import seaborn as sn\n",
    "from sklearn.preprocessing import LabelEncoder\n",
    "from sklearn.utils import resample\n",
    "from sklearn.model_selection import StratifiedKFold, RandomizedSearchCV, GridSearchCV\n",
    "from sklearn.model_selection import cross_val_score, train_test_split, learning_curve, validation_curve\n",
    "from sklearn.pipeline import make_pipeline\n",
    "from sklearn.svm import LinearSVC\n",
    "from sklearn.metrics import accuracy_score, confusion_matrix, f1_score, recall_score, precision_score, roc_curve, auc\n",
    "from sklearn.naive_bayes import GaussianNB\n",
    "from sklearn.preprocessing import StandardScaler\n",
    "from sklearn.neighbors import KNeighborsClassifier\n",
    "from sklearn.linear_model import LogisticRegression\n",
    "from sklearn.tree import DecisionTreeClassifier\n",
    "from sklearn import tree\n",
    "from sklearn.ensemble import GradientBoostingClassifier, RandomForestClassifier\n",
    "from sklearn.dummy import DummyClassifier\n",
    "from sklearn.feature_selection import RFE\n",
    "from sklearn.decomposition import PCA\n",
    "from statistics import mean\n",
    "from scipy.stats import uniform"
   ]
  },
  {
   "cell_type": "markdown",
   "id": "dbc2a2cb",
   "metadata": {},
   "source": [
    "### Reading dataset"
   ]
  },
  {
   "cell_type": "code",
   "execution_count": 2,
   "id": "06fc7b09",
   "metadata": {},
   "outputs": [
    {
     "data": {
      "text/html": [
       "<div>\n",
       "<style scoped>\n",
       "    .dataframe tbody tr th:only-of-type {\n",
       "        vertical-align: middle;\n",
       "    }\n",
       "\n",
       "    .dataframe tbody tr th {\n",
       "        vertical-align: top;\n",
       "    }\n",
       "\n",
       "    .dataframe thead th {\n",
       "        text-align: right;\n",
       "    }\n",
       "</style>\n",
       "<table border=\"1\" class=\"dataframe\">\n",
       "  <thead>\n",
       "    <tr style=\"text-align: right;\">\n",
       "      <th></th>\n",
       "      <th>Age</th>\n",
       "      <th>Gender</th>\n",
       "      <th>Polyuria</th>\n",
       "      <th>Polydipsia</th>\n",
       "      <th>sudden weight loss</th>\n",
       "      <th>weakness</th>\n",
       "      <th>Polyphagia</th>\n",
       "      <th>Genital thrush</th>\n",
       "      <th>visual blurring</th>\n",
       "      <th>Itching</th>\n",
       "      <th>Irritability</th>\n",
       "      <th>delayed healing</th>\n",
       "      <th>partial paresis</th>\n",
       "      <th>muscle stiffness</th>\n",
       "      <th>Alopecia</th>\n",
       "      <th>Obesity</th>\n",
       "      <th>class</th>\n",
       "    </tr>\n",
       "  </thead>\n",
       "  <tbody>\n",
       "    <tr>\n",
       "      <th>0</th>\n",
       "      <td>40</td>\n",
       "      <td>Male</td>\n",
       "      <td>No</td>\n",
       "      <td>Yes</td>\n",
       "      <td>No</td>\n",
       "      <td>Yes</td>\n",
       "      <td>No</td>\n",
       "      <td>No</td>\n",
       "      <td>No</td>\n",
       "      <td>Yes</td>\n",
       "      <td>No</td>\n",
       "      <td>Yes</td>\n",
       "      <td>No</td>\n",
       "      <td>Yes</td>\n",
       "      <td>Yes</td>\n",
       "      <td>Yes</td>\n",
       "      <td>Positive</td>\n",
       "    </tr>\n",
       "    <tr>\n",
       "      <th>1</th>\n",
       "      <td>58</td>\n",
       "      <td>Male</td>\n",
       "      <td>No</td>\n",
       "      <td>No</td>\n",
       "      <td>No</td>\n",
       "      <td>Yes</td>\n",
       "      <td>No</td>\n",
       "      <td>No</td>\n",
       "      <td>Yes</td>\n",
       "      <td>No</td>\n",
       "      <td>No</td>\n",
       "      <td>No</td>\n",
       "      <td>Yes</td>\n",
       "      <td>No</td>\n",
       "      <td>Yes</td>\n",
       "      <td>No</td>\n",
       "      <td>Positive</td>\n",
       "    </tr>\n",
       "    <tr>\n",
       "      <th>2</th>\n",
       "      <td>41</td>\n",
       "      <td>Male</td>\n",
       "      <td>Yes</td>\n",
       "      <td>No</td>\n",
       "      <td>No</td>\n",
       "      <td>Yes</td>\n",
       "      <td>Yes</td>\n",
       "      <td>No</td>\n",
       "      <td>No</td>\n",
       "      <td>Yes</td>\n",
       "      <td>No</td>\n",
       "      <td>Yes</td>\n",
       "      <td>No</td>\n",
       "      <td>Yes</td>\n",
       "      <td>Yes</td>\n",
       "      <td>No</td>\n",
       "      <td>Positive</td>\n",
       "    </tr>\n",
       "    <tr>\n",
       "      <th>3</th>\n",
       "      <td>45</td>\n",
       "      <td>Male</td>\n",
       "      <td>No</td>\n",
       "      <td>No</td>\n",
       "      <td>Yes</td>\n",
       "      <td>Yes</td>\n",
       "      <td>Yes</td>\n",
       "      <td>Yes</td>\n",
       "      <td>No</td>\n",
       "      <td>Yes</td>\n",
       "      <td>No</td>\n",
       "      <td>Yes</td>\n",
       "      <td>No</td>\n",
       "      <td>No</td>\n",
       "      <td>No</td>\n",
       "      <td>No</td>\n",
       "      <td>Positive</td>\n",
       "    </tr>\n",
       "    <tr>\n",
       "      <th>4</th>\n",
       "      <td>60</td>\n",
       "      <td>Male</td>\n",
       "      <td>Yes</td>\n",
       "      <td>Yes</td>\n",
       "      <td>Yes</td>\n",
       "      <td>Yes</td>\n",
       "      <td>Yes</td>\n",
       "      <td>No</td>\n",
       "      <td>Yes</td>\n",
       "      <td>Yes</td>\n",
       "      <td>Yes</td>\n",
       "      <td>Yes</td>\n",
       "      <td>Yes</td>\n",
       "      <td>Yes</td>\n",
       "      <td>Yes</td>\n",
       "      <td>Yes</td>\n",
       "      <td>Positive</td>\n",
       "    </tr>\n",
       "  </tbody>\n",
       "</table>\n",
       "</div>"
      ],
      "text/plain": [
       "   Age Gender Polyuria Polydipsia sudden weight loss weakness Polyphagia  \\\n",
       "0   40   Male       No        Yes                 No      Yes         No   \n",
       "1   58   Male       No         No                 No      Yes         No   \n",
       "2   41   Male      Yes         No                 No      Yes        Yes   \n",
       "3   45   Male       No         No                Yes      Yes        Yes   \n",
       "4   60   Male      Yes        Yes                Yes      Yes        Yes   \n",
       "\n",
       "  Genital thrush visual blurring Itching Irritability delayed healing  \\\n",
       "0             No              No     Yes           No             Yes   \n",
       "1             No             Yes      No           No              No   \n",
       "2             No              No     Yes           No             Yes   \n",
       "3            Yes              No     Yes           No             Yes   \n",
       "4             No             Yes     Yes          Yes             Yes   \n",
       "\n",
       "  partial paresis muscle stiffness Alopecia Obesity     class  \n",
       "0              No              Yes      Yes     Yes  Positive  \n",
       "1             Yes               No      Yes      No  Positive  \n",
       "2              No              Yes      Yes      No  Positive  \n",
       "3              No               No       No      No  Positive  \n",
       "4             Yes              Yes      Yes     Yes  Positive  "
      ]
     },
     "execution_count": 2,
     "metadata": {},
     "output_type": "execute_result"
    }
   ],
   "source": [
    "dataset = pd.read_csv('diabetes_data_upload.csv')\n",
    "dataset.head()"
   ]
  },
  {
   "cell_type": "code",
   "execution_count": 3,
   "id": "1054e4ea",
   "metadata": {},
   "outputs": [
    {
     "data": {
      "text/plain": [
       "(520, 17)"
      ]
     },
     "execution_count": 3,
     "metadata": {},
     "output_type": "execute_result"
    }
   ],
   "source": [
    "dataset.shape"
   ]
  },
  {
   "cell_type": "markdown",
   "id": "7d7f1e2f",
   "metadata": {},
   "source": [
    "# Data processing"
   ]
  },
  {
   "cell_type": "markdown",
   "id": "1132b9c2",
   "metadata": {},
   "source": [
    "### Checking missing data"
   ]
  },
  {
   "cell_type": "code",
   "execution_count": 4,
   "id": "d891bda6",
   "metadata": {},
   "outputs": [
    {
     "data": {
      "text/plain": [
       "Age                   0\n",
       "Gender                0\n",
       "Polyuria              0\n",
       "Polydipsia            0\n",
       "sudden weight loss    0\n",
       "weakness              0\n",
       "Polyphagia            0\n",
       "Genital thrush        0\n",
       "visual blurring       0\n",
       "Itching               0\n",
       "Irritability          0\n",
       "delayed healing       0\n",
       "partial paresis       0\n",
       "muscle stiffness      0\n",
       "Alopecia              0\n",
       "Obesity               0\n",
       "class                 0\n",
       "dtype: int64"
      ]
     },
     "execution_count": 4,
     "metadata": {},
     "output_type": "execute_result"
    }
   ],
   "source": [
    "missing = dataset.isna()\n",
    "missing.sum()"
   ]
  },
  {
   "cell_type": "markdown",
   "id": "8a693e0e",
   "metadata": {},
   "source": [
    "### Removing duplicates"
   ]
  },
  {
   "cell_type": "code",
   "execution_count": 5,
   "id": "b20e8ef9",
   "metadata": {},
   "outputs": [
    {
     "data": {
      "text/plain": [
       "(251, 17)"
      ]
     },
     "execution_count": 5,
     "metadata": {},
     "output_type": "execute_result"
    }
   ],
   "source": [
    "dups = dataset.duplicated()\n",
    "dropped = dataset.drop_duplicates()\n",
    "dropped.shape"
   ]
  },
  {
   "cell_type": "markdown",
   "id": "a6359d5f",
   "metadata": {},
   "source": [
    "### Changing from categorical to numerical values"
   ]
  },
  {
   "cell_type": "code",
   "execution_count": 6,
   "id": "2206d00d",
   "metadata": {},
   "outputs": [
    {
     "data": {
      "text/html": [
       "<div>\n",
       "<style scoped>\n",
       "    .dataframe tbody tr th:only-of-type {\n",
       "        vertical-align: middle;\n",
       "    }\n",
       "\n",
       "    .dataframe tbody tr th {\n",
       "        vertical-align: top;\n",
       "    }\n",
       "\n",
       "    .dataframe thead th {\n",
       "        text-align: right;\n",
       "    }\n",
       "</style>\n",
       "<table border=\"1\" class=\"dataframe\">\n",
       "  <thead>\n",
       "    <tr style=\"text-align: right;\">\n",
       "      <th></th>\n",
       "      <th>Age</th>\n",
       "      <th>Gender</th>\n",
       "      <th>Polyuria</th>\n",
       "      <th>Polydipsia</th>\n",
       "      <th>sudden weight loss</th>\n",
       "      <th>weakness</th>\n",
       "      <th>Polyphagia</th>\n",
       "      <th>Genital thrush</th>\n",
       "      <th>visual blurring</th>\n",
       "      <th>Itching</th>\n",
       "      <th>Irritability</th>\n",
       "      <th>delayed healing</th>\n",
       "      <th>partial paresis</th>\n",
       "      <th>muscle stiffness</th>\n",
       "      <th>Alopecia</th>\n",
       "      <th>Obesity</th>\n",
       "      <th>class</th>\n",
       "    </tr>\n",
       "  </thead>\n",
       "  <tbody>\n",
       "    <tr>\n",
       "      <th>0</th>\n",
       "      <td>40</td>\n",
       "      <td>1</td>\n",
       "      <td>0</td>\n",
       "      <td>1</td>\n",
       "      <td>0</td>\n",
       "      <td>1</td>\n",
       "      <td>0</td>\n",
       "      <td>0</td>\n",
       "      <td>0</td>\n",
       "      <td>1</td>\n",
       "      <td>0</td>\n",
       "      <td>1</td>\n",
       "      <td>0</td>\n",
       "      <td>1</td>\n",
       "      <td>1</td>\n",
       "      <td>1</td>\n",
       "      <td>1</td>\n",
       "    </tr>\n",
       "    <tr>\n",
       "      <th>1</th>\n",
       "      <td>58</td>\n",
       "      <td>1</td>\n",
       "      <td>0</td>\n",
       "      <td>0</td>\n",
       "      <td>0</td>\n",
       "      <td>1</td>\n",
       "      <td>0</td>\n",
       "      <td>0</td>\n",
       "      <td>1</td>\n",
       "      <td>0</td>\n",
       "      <td>0</td>\n",
       "      <td>0</td>\n",
       "      <td>1</td>\n",
       "      <td>0</td>\n",
       "      <td>1</td>\n",
       "      <td>0</td>\n",
       "      <td>1</td>\n",
       "    </tr>\n",
       "    <tr>\n",
       "      <th>2</th>\n",
       "      <td>41</td>\n",
       "      <td>1</td>\n",
       "      <td>1</td>\n",
       "      <td>0</td>\n",
       "      <td>0</td>\n",
       "      <td>1</td>\n",
       "      <td>1</td>\n",
       "      <td>0</td>\n",
       "      <td>0</td>\n",
       "      <td>1</td>\n",
       "      <td>0</td>\n",
       "      <td>1</td>\n",
       "      <td>0</td>\n",
       "      <td>1</td>\n",
       "      <td>1</td>\n",
       "      <td>0</td>\n",
       "      <td>1</td>\n",
       "    </tr>\n",
       "    <tr>\n",
       "      <th>3</th>\n",
       "      <td>45</td>\n",
       "      <td>1</td>\n",
       "      <td>0</td>\n",
       "      <td>0</td>\n",
       "      <td>1</td>\n",
       "      <td>1</td>\n",
       "      <td>1</td>\n",
       "      <td>1</td>\n",
       "      <td>0</td>\n",
       "      <td>1</td>\n",
       "      <td>0</td>\n",
       "      <td>1</td>\n",
       "      <td>0</td>\n",
       "      <td>0</td>\n",
       "      <td>0</td>\n",
       "      <td>0</td>\n",
       "      <td>1</td>\n",
       "    </tr>\n",
       "    <tr>\n",
       "      <th>4</th>\n",
       "      <td>60</td>\n",
       "      <td>1</td>\n",
       "      <td>1</td>\n",
       "      <td>1</td>\n",
       "      <td>1</td>\n",
       "      <td>1</td>\n",
       "      <td>1</td>\n",
       "      <td>0</td>\n",
       "      <td>1</td>\n",
       "      <td>1</td>\n",
       "      <td>1</td>\n",
       "      <td>1</td>\n",
       "      <td>1</td>\n",
       "      <td>1</td>\n",
       "      <td>1</td>\n",
       "      <td>1</td>\n",
       "      <td>1</td>\n",
       "    </tr>\n",
       "  </tbody>\n",
       "</table>\n",
       "</div>"
      ],
      "text/plain": [
       "   Age  Gender  Polyuria  Polydipsia  sudden weight loss  weakness  \\\n",
       "0   40       1         0           1                   0         1   \n",
       "1   58       1         0           0                   0         1   \n",
       "2   41       1         1           0                   0         1   \n",
       "3   45       1         0           0                   1         1   \n",
       "4   60       1         1           1                   1         1   \n",
       "\n",
       "   Polyphagia  Genital thrush  visual blurring  Itching  Irritability  \\\n",
       "0           0               0                0        1             0   \n",
       "1           0               0                1        0             0   \n",
       "2           1               0                0        1             0   \n",
       "3           1               1                0        1             0   \n",
       "4           1               0                1        1             1   \n",
       "\n",
       "   delayed healing  partial paresis  muscle stiffness  Alopecia  Obesity  \\\n",
       "0                1                0                 1         1        1   \n",
       "1                0                1                 0         1        0   \n",
       "2                1                0                 1         1        0   \n",
       "3                1                0                 0         0        0   \n",
       "4                1                1                 1         1        1   \n",
       "\n",
       "   class  \n",
       "0      1  \n",
       "1      1  \n",
       "2      1  \n",
       "3      1  \n",
       "4      1  "
      ]
     },
     "execution_count": 6,
     "metadata": {},
     "output_type": "execute_result"
    }
   ],
   "source": [
    "dataset['Gender'] = [1 if g=='Male' else 0 for g in dataset.Gender]\n",
    "dataset['class'] = [1 if c=='Positive' else 0 for c in dataset.get('class')]\n",
    "\n",
    "cols_name = list(dataset)\n",
    "cols_name = cols_name[2:16]\n",
    "\n",
    "for col in cols_name:\n",
    "    dataset[col] = [1 if b=='Yes' else 0 for b in dataset.get(col)]\n",
    "\n",
    "dataset.head()"
   ]
  },
  {
   "cell_type": "markdown",
   "id": "4525c5e0",
   "metadata": {},
   "source": [
    "# Descriptive statistics"
   ]
  },
  {
   "cell_type": "markdown",
   "id": "8a7b331e",
   "metadata": {},
   "source": [
    "### Mean"
   ]
  },
  {
   "cell_type": "code",
   "execution_count": 7,
   "id": "07316a37",
   "metadata": {},
   "outputs": [
    {
     "data": {
      "text/plain": [
       "Age                   48.028846\n",
       "Gender                 0.630769\n",
       "Polyuria               0.496154\n",
       "Polydipsia             0.448077\n",
       "sudden weight loss     0.417308\n",
       "weakness               0.586538\n",
       "Polyphagia             0.455769\n",
       "Genital thrush         0.223077\n",
       "visual blurring        0.448077\n",
       "Itching                0.486538\n",
       "Irritability           0.242308\n",
       "delayed healing        0.459615\n",
       "partial paresis        0.430769\n",
       "muscle stiffness       0.375000\n",
       "Alopecia               0.344231\n",
       "Obesity                0.169231\n",
       "class                  0.615385\n",
       "dtype: float64"
      ]
     },
     "execution_count": 7,
     "metadata": {},
     "output_type": "execute_result"
    }
   ],
   "source": [
    "dataset.mean()"
   ]
  },
  {
   "cell_type": "markdown",
   "id": "ce6580f7",
   "metadata": {},
   "source": [
    "### Median"
   ]
  },
  {
   "cell_type": "code",
   "execution_count": 8,
   "id": "de89e8d3",
   "metadata": {},
   "outputs": [
    {
     "data": {
      "text/plain": [
       "Age                   47.5\n",
       "Gender                 1.0\n",
       "Polyuria               0.0\n",
       "Polydipsia             0.0\n",
       "sudden weight loss     0.0\n",
       "weakness               1.0\n",
       "Polyphagia             0.0\n",
       "Genital thrush         0.0\n",
       "visual blurring        0.0\n",
       "Itching                0.0\n",
       "Irritability           0.0\n",
       "delayed healing        0.0\n",
       "partial paresis        0.0\n",
       "muscle stiffness       0.0\n",
       "Alopecia               0.0\n",
       "Obesity                0.0\n",
       "class                  1.0\n",
       "dtype: float64"
      ]
     },
     "execution_count": 8,
     "metadata": {},
     "output_type": "execute_result"
    }
   ],
   "source": [
    "dataset.median()"
   ]
  },
  {
   "cell_type": "markdown",
   "id": "ef5b7d74",
   "metadata": {},
   "source": [
    "### Standard deviation"
   ]
  },
  {
   "cell_type": "code",
   "execution_count": 9,
   "id": "bee480c2",
   "metadata": {},
   "outputs": [
    {
     "data": {
      "text/plain": [
       "Age                   12.151466\n",
       "Gender                 0.483061\n",
       "Polyuria               0.500467\n",
       "Polydipsia             0.497776\n",
       "sudden weight loss     0.493589\n",
       "weakness               0.492928\n",
       "Polyphagia             0.498519\n",
       "Genital thrush         0.416710\n",
       "visual blurring        0.497776\n",
       "Itching                0.500300\n",
       "Irritability           0.428892\n",
       "delayed healing        0.498846\n",
       "partial paresis        0.495661\n",
       "muscle stiffness       0.484589\n",
       "Alopecia               0.475574\n",
       "Obesity                0.375317\n",
       "class                  0.486973\n",
       "dtype: float64"
      ]
     },
     "execution_count": 9,
     "metadata": {},
     "output_type": "execute_result"
    }
   ],
   "source": [
    "dataset.std()"
   ]
  },
  {
   "cell_type": "markdown",
   "id": "13c58330",
   "metadata": {},
   "source": [
    "### Preview"
   ]
  },
  {
   "cell_type": "code",
   "execution_count": 10,
   "id": "2aed4e46",
   "metadata": {
    "scrolled": true
   },
   "outputs": [
    {
     "data": {
      "text/html": [
       "<div>\n",
       "<style scoped>\n",
       "    .dataframe tbody tr th:only-of-type {\n",
       "        vertical-align: middle;\n",
       "    }\n",
       "\n",
       "    .dataframe tbody tr th {\n",
       "        vertical-align: top;\n",
       "    }\n",
       "\n",
       "    .dataframe thead th {\n",
       "        text-align: right;\n",
       "    }\n",
       "</style>\n",
       "<table border=\"1\" class=\"dataframe\">\n",
       "  <thead>\n",
       "    <tr style=\"text-align: right;\">\n",
       "      <th></th>\n",
       "      <th>Age</th>\n",
       "      <th>Gender</th>\n",
       "      <th>Polyuria</th>\n",
       "      <th>Polydipsia</th>\n",
       "      <th>sudden weight loss</th>\n",
       "      <th>weakness</th>\n",
       "      <th>Polyphagia</th>\n",
       "      <th>Genital thrush</th>\n",
       "      <th>visual blurring</th>\n",
       "      <th>Itching</th>\n",
       "      <th>Irritability</th>\n",
       "      <th>delayed healing</th>\n",
       "      <th>partial paresis</th>\n",
       "      <th>muscle stiffness</th>\n",
       "      <th>Alopecia</th>\n",
       "      <th>Obesity</th>\n",
       "      <th>class</th>\n",
       "    </tr>\n",
       "  </thead>\n",
       "  <tbody>\n",
       "    <tr>\n",
       "      <th>count</th>\n",
       "      <td>520.000000</td>\n",
       "      <td>520.000000</td>\n",
       "      <td>520.000000</td>\n",
       "      <td>520.000000</td>\n",
       "      <td>520.000000</td>\n",
       "      <td>520.000000</td>\n",
       "      <td>520.000000</td>\n",
       "      <td>520.000000</td>\n",
       "      <td>520.000000</td>\n",
       "      <td>520.000000</td>\n",
       "      <td>520.000000</td>\n",
       "      <td>520.000000</td>\n",
       "      <td>520.000000</td>\n",
       "      <td>520.000000</td>\n",
       "      <td>520.000000</td>\n",
       "      <td>520.000000</td>\n",
       "      <td>520.000000</td>\n",
       "    </tr>\n",
       "    <tr>\n",
       "      <th>mean</th>\n",
       "      <td>48.028846</td>\n",
       "      <td>0.630769</td>\n",
       "      <td>0.496154</td>\n",
       "      <td>0.448077</td>\n",
       "      <td>0.417308</td>\n",
       "      <td>0.586538</td>\n",
       "      <td>0.455769</td>\n",
       "      <td>0.223077</td>\n",
       "      <td>0.448077</td>\n",
       "      <td>0.486538</td>\n",
       "      <td>0.242308</td>\n",
       "      <td>0.459615</td>\n",
       "      <td>0.430769</td>\n",
       "      <td>0.375000</td>\n",
       "      <td>0.344231</td>\n",
       "      <td>0.169231</td>\n",
       "      <td>0.615385</td>\n",
       "    </tr>\n",
       "    <tr>\n",
       "      <th>std</th>\n",
       "      <td>12.151466</td>\n",
       "      <td>0.483061</td>\n",
       "      <td>0.500467</td>\n",
       "      <td>0.497776</td>\n",
       "      <td>0.493589</td>\n",
       "      <td>0.492928</td>\n",
       "      <td>0.498519</td>\n",
       "      <td>0.416710</td>\n",
       "      <td>0.497776</td>\n",
       "      <td>0.500300</td>\n",
       "      <td>0.428892</td>\n",
       "      <td>0.498846</td>\n",
       "      <td>0.495661</td>\n",
       "      <td>0.484589</td>\n",
       "      <td>0.475574</td>\n",
       "      <td>0.375317</td>\n",
       "      <td>0.486973</td>\n",
       "    </tr>\n",
       "    <tr>\n",
       "      <th>min</th>\n",
       "      <td>16.000000</td>\n",
       "      <td>0.000000</td>\n",
       "      <td>0.000000</td>\n",
       "      <td>0.000000</td>\n",
       "      <td>0.000000</td>\n",
       "      <td>0.000000</td>\n",
       "      <td>0.000000</td>\n",
       "      <td>0.000000</td>\n",
       "      <td>0.000000</td>\n",
       "      <td>0.000000</td>\n",
       "      <td>0.000000</td>\n",
       "      <td>0.000000</td>\n",
       "      <td>0.000000</td>\n",
       "      <td>0.000000</td>\n",
       "      <td>0.000000</td>\n",
       "      <td>0.000000</td>\n",
       "      <td>0.000000</td>\n",
       "    </tr>\n",
       "    <tr>\n",
       "      <th>25%</th>\n",
       "      <td>39.000000</td>\n",
       "      <td>0.000000</td>\n",
       "      <td>0.000000</td>\n",
       "      <td>0.000000</td>\n",
       "      <td>0.000000</td>\n",
       "      <td>0.000000</td>\n",
       "      <td>0.000000</td>\n",
       "      <td>0.000000</td>\n",
       "      <td>0.000000</td>\n",
       "      <td>0.000000</td>\n",
       "      <td>0.000000</td>\n",
       "      <td>0.000000</td>\n",
       "      <td>0.000000</td>\n",
       "      <td>0.000000</td>\n",
       "      <td>0.000000</td>\n",
       "      <td>0.000000</td>\n",
       "      <td>0.000000</td>\n",
       "    </tr>\n",
       "    <tr>\n",
       "      <th>50%</th>\n",
       "      <td>47.500000</td>\n",
       "      <td>1.000000</td>\n",
       "      <td>0.000000</td>\n",
       "      <td>0.000000</td>\n",
       "      <td>0.000000</td>\n",
       "      <td>1.000000</td>\n",
       "      <td>0.000000</td>\n",
       "      <td>0.000000</td>\n",
       "      <td>0.000000</td>\n",
       "      <td>0.000000</td>\n",
       "      <td>0.000000</td>\n",
       "      <td>0.000000</td>\n",
       "      <td>0.000000</td>\n",
       "      <td>0.000000</td>\n",
       "      <td>0.000000</td>\n",
       "      <td>0.000000</td>\n",
       "      <td>1.000000</td>\n",
       "    </tr>\n",
       "    <tr>\n",
       "      <th>75%</th>\n",
       "      <td>57.000000</td>\n",
       "      <td>1.000000</td>\n",
       "      <td>1.000000</td>\n",
       "      <td>1.000000</td>\n",
       "      <td>1.000000</td>\n",
       "      <td>1.000000</td>\n",
       "      <td>1.000000</td>\n",
       "      <td>0.000000</td>\n",
       "      <td>1.000000</td>\n",
       "      <td>1.000000</td>\n",
       "      <td>0.000000</td>\n",
       "      <td>1.000000</td>\n",
       "      <td>1.000000</td>\n",
       "      <td>1.000000</td>\n",
       "      <td>1.000000</td>\n",
       "      <td>0.000000</td>\n",
       "      <td>1.000000</td>\n",
       "    </tr>\n",
       "    <tr>\n",
       "      <th>max</th>\n",
       "      <td>90.000000</td>\n",
       "      <td>1.000000</td>\n",
       "      <td>1.000000</td>\n",
       "      <td>1.000000</td>\n",
       "      <td>1.000000</td>\n",
       "      <td>1.000000</td>\n",
       "      <td>1.000000</td>\n",
       "      <td>1.000000</td>\n",
       "      <td>1.000000</td>\n",
       "      <td>1.000000</td>\n",
       "      <td>1.000000</td>\n",
       "      <td>1.000000</td>\n",
       "      <td>1.000000</td>\n",
       "      <td>1.000000</td>\n",
       "      <td>1.000000</td>\n",
       "      <td>1.000000</td>\n",
       "      <td>1.000000</td>\n",
       "    </tr>\n",
       "  </tbody>\n",
       "</table>\n",
       "</div>"
      ],
      "text/plain": [
       "              Age      Gender    Polyuria  Polydipsia  sudden weight loss  \\\n",
       "count  520.000000  520.000000  520.000000  520.000000          520.000000   \n",
       "mean    48.028846    0.630769    0.496154    0.448077            0.417308   \n",
       "std     12.151466    0.483061    0.500467    0.497776            0.493589   \n",
       "min     16.000000    0.000000    0.000000    0.000000            0.000000   \n",
       "25%     39.000000    0.000000    0.000000    0.000000            0.000000   \n",
       "50%     47.500000    1.000000    0.000000    0.000000            0.000000   \n",
       "75%     57.000000    1.000000    1.000000    1.000000            1.000000   \n",
       "max     90.000000    1.000000    1.000000    1.000000            1.000000   \n",
       "\n",
       "         weakness  Polyphagia  Genital thrush  visual blurring     Itching  \\\n",
       "count  520.000000  520.000000      520.000000       520.000000  520.000000   \n",
       "mean     0.586538    0.455769        0.223077         0.448077    0.486538   \n",
       "std      0.492928    0.498519        0.416710         0.497776    0.500300   \n",
       "min      0.000000    0.000000        0.000000         0.000000    0.000000   \n",
       "25%      0.000000    0.000000        0.000000         0.000000    0.000000   \n",
       "50%      1.000000    0.000000        0.000000         0.000000    0.000000   \n",
       "75%      1.000000    1.000000        0.000000         1.000000    1.000000   \n",
       "max      1.000000    1.000000        1.000000         1.000000    1.000000   \n",
       "\n",
       "       Irritability  delayed healing  partial paresis  muscle stiffness  \\\n",
       "count    520.000000       520.000000       520.000000        520.000000   \n",
       "mean       0.242308         0.459615         0.430769          0.375000   \n",
       "std        0.428892         0.498846         0.495661          0.484589   \n",
       "min        0.000000         0.000000         0.000000          0.000000   \n",
       "25%        0.000000         0.000000         0.000000          0.000000   \n",
       "50%        0.000000         0.000000         0.000000          0.000000   \n",
       "75%        0.000000         1.000000         1.000000          1.000000   \n",
       "max        1.000000         1.000000         1.000000          1.000000   \n",
       "\n",
       "         Alopecia     Obesity       class  \n",
       "count  520.000000  520.000000  520.000000  \n",
       "mean     0.344231    0.169231    0.615385  \n",
       "std      0.475574    0.375317    0.486973  \n",
       "min      0.000000    0.000000    0.000000  \n",
       "25%      0.000000    0.000000    0.000000  \n",
       "50%      0.000000    0.000000    1.000000  \n",
       "75%      1.000000    0.000000    1.000000  \n",
       "max      1.000000    1.000000    1.000000  "
      ]
     },
     "execution_count": 10,
     "metadata": {},
     "output_type": "execute_result"
    }
   ],
   "source": [
    "dataset.describe(include='all')"
   ]
  },
  {
   "cell_type": "markdown",
   "id": "43b728f1",
   "metadata": {},
   "source": [
    "### Handling highly correlated features"
   ]
  },
  {
   "cell_type": "code",
   "execution_count": 11,
   "id": "e3b863b8",
   "metadata": {
    "scrolled": false
   },
   "outputs": [
    {
     "name": "stdout",
     "output_type": "stream",
     "text": [
      "[]\n"
     ]
    },
    {
     "data": {
      "image/png": "[encoded data removed]",
      "text/plain": [
       "<Figure size 1008x1008 with 2 Axes>"
      ]
     },
     "metadata": {},
     "output_type": "display_data"
    }
   ],
   "source": [
    "corr = dataset.corr()\n",
    "\n",
    "sn.set(rc = {'figure.figsize':(14, 14)})\n",
    "sn.heatmap(corr, annot=True, vmin=-1.0, vmax=1.0, cmap=\"PiYG\")\n",
    "\n",
    "upper_tri = corr.where(np.triu(np.ones(corr.shape), k=1).astype(np.bool_))\n",
    "to_drop = [column for column in upper_tri.columns if any(upper_tri[column] > 0.95)]\n",
    "print(to_drop)\n",
    "\n",
    "sn.reset_orig()"
   ]
  },
  {
   "cell_type": "markdown",
   "id": "f6b93c9c",
   "metadata": {},
   "source": [
    "### Outliers detection"
   ]
  },
  {
   "cell_type": "code",
   "execution_count": 12,
   "id": "c8156d6e",
   "metadata": {
    "scrolled": false
   },
   "outputs": [
    {
     "data": {
      "text/html": [
       "<div>\n",
       "<style scoped>\n",
       "    .dataframe tbody tr th:only-of-type {\n",
       "        vertical-align: middle;\n",
       "    }\n",
       "\n",
       "    .dataframe tbody tr th {\n",
       "        vertical-align: top;\n",
       "    }\n",
       "\n",
       "    .dataframe thead th {\n",
       "        text-align: right;\n",
       "    }\n",
       "</style>\n",
       "<table border=\"1\" class=\"dataframe\">\n",
       "  <thead>\n",
       "    <tr style=\"text-align: right;\">\n",
       "      <th></th>\n",
       "      <th>Age</th>\n",
       "      <th>Gender</th>\n",
       "      <th>Polyuria</th>\n",
       "      <th>Polydipsia</th>\n",
       "      <th>sudden weight loss</th>\n",
       "      <th>weakness</th>\n",
       "      <th>Polyphagia</th>\n",
       "      <th>Genital thrush</th>\n",
       "      <th>visual blurring</th>\n",
       "      <th>Itching</th>\n",
       "      <th>Irritability</th>\n",
       "      <th>delayed healing</th>\n",
       "      <th>partial paresis</th>\n",
       "      <th>muscle stiffness</th>\n",
       "      <th>Alopecia</th>\n",
       "      <th>Obesity</th>\n",
       "      <th>class</th>\n",
       "    </tr>\n",
       "  </thead>\n",
       "  <tbody>\n",
       "    <tr>\n",
       "      <th>101</th>\n",
       "      <td>85</td>\n",
       "      <td>1</td>\n",
       "      <td>1</td>\n",
       "      <td>1</td>\n",
       "      <td>1</td>\n",
       "      <td>1</td>\n",
       "      <td>1</td>\n",
       "      <td>1</td>\n",
       "      <td>1</td>\n",
       "      <td>1</td>\n",
       "      <td>0</td>\n",
       "      <td>1</td>\n",
       "      <td>1</td>\n",
       "      <td>1</td>\n",
       "      <td>0</td>\n",
       "      <td>0</td>\n",
       "      <td>1</td>\n",
       "    </tr>\n",
       "    <tr>\n",
       "      <th>102</th>\n",
       "      <td>90</td>\n",
       "      <td>0</td>\n",
       "      <td>0</td>\n",
       "      <td>1</td>\n",
       "      <td>1</td>\n",
       "      <td>0</td>\n",
       "      <td>0</td>\n",
       "      <td>1</td>\n",
       "      <td>1</td>\n",
       "      <td>1</td>\n",
       "      <td>0</td>\n",
       "      <td>0</td>\n",
       "      <td>0</td>\n",
       "      <td>1</td>\n",
       "      <td>1</td>\n",
       "      <td>0</td>\n",
       "      <td>1</td>\n",
       "    </tr>\n",
       "    <tr>\n",
       "      <th>185</th>\n",
       "      <td>85</td>\n",
       "      <td>1</td>\n",
       "      <td>1</td>\n",
       "      <td>1</td>\n",
       "      <td>1</td>\n",
       "      <td>1</td>\n",
       "      <td>1</td>\n",
       "      <td>1</td>\n",
       "      <td>1</td>\n",
       "      <td>1</td>\n",
       "      <td>0</td>\n",
       "      <td>1</td>\n",
       "      <td>1</td>\n",
       "      <td>1</td>\n",
       "      <td>0</td>\n",
       "      <td>0</td>\n",
       "      <td>1</td>\n",
       "    </tr>\n",
       "    <tr>\n",
       "      <th>186</th>\n",
       "      <td>90</td>\n",
       "      <td>0</td>\n",
       "      <td>0</td>\n",
       "      <td>1</td>\n",
       "      <td>1</td>\n",
       "      <td>0</td>\n",
       "      <td>0</td>\n",
       "      <td>1</td>\n",
       "      <td>1</td>\n",
       "      <td>1</td>\n",
       "      <td>0</td>\n",
       "      <td>0</td>\n",
       "      <td>0</td>\n",
       "      <td>1</td>\n",
       "      <td>1</td>\n",
       "      <td>0</td>\n",
       "      <td>1</td>\n",
       "    </tr>\n",
       "  </tbody>\n",
       "</table>\n",
       "</div>"
      ],
      "text/plain": [
       "     Age  Gender  Polyuria  Polydipsia  sudden weight loss  weakness  \\\n",
       "101   85       1         1           1                   1         1   \n",
       "102   90       0         0           1                   1         0   \n",
       "185   85       1         1           1                   1         1   \n",
       "186   90       0         0           1                   1         0   \n",
       "\n",
       "     Polyphagia  Genital thrush  visual blurring  Itching  Irritability  \\\n",
       "101           1               1                1        1             0   \n",
       "102           0               1                1        1             0   \n",
       "185           1               1                1        1             0   \n",
       "186           0               1                1        1             0   \n",
       "\n",
       "     delayed healing  partial paresis  muscle stiffness  Alopecia  Obesity  \\\n",
       "101                1                1                 1         0        0   \n",
       "102                0                0                 1         1        0   \n",
       "185                1                1                 1         0        0   \n",
       "186                0                0                 1         1        0   \n",
       "\n",
       "     class  \n",
       "101      1  \n",
       "102      1  \n",
       "185      1  \n",
       "186      1  "
      ]
     },
     "execution_count": 12,
     "metadata": {},
     "output_type": "execute_result"
    }
   ],
   "source": [
    "feature = dataset[\"Age\"]\n",
    "\n",
    "q1, q3 = np.percentile(feature, [25, 75])\n",
    "iqr = q3 - q1\n",
    "lower_bound = q1 - (iqr * 1.5)\n",
    "upper_bound = q3 + (iqr * 1.5)\n",
    "outliers = np.where((feature > upper_bound) | (feature < lower_bound))\n",
    "\n",
    "dataset.iloc[outliers[0]]"
   ]
  },
  {
   "cell_type": "markdown",
   "id": "13ccb47c",
   "metadata": {},
   "source": [
    "### Positive/Negative"
   ]
  },
  {
   "cell_type": "code",
   "execution_count": 13,
   "id": "a66b13ad",
   "metadata": {},
   "outputs": [
    {
     "name": "stdout",
     "output_type": "stream",
     "text": [
      "NEGATIVE:  200\n",
      "POSITIVE:  320\n"
     ]
    },
    {
     "data": {
      "image/png": "[encoded data removed]",
      "text/plain": [
       "<Figure size 432x288 with 1 Axes>"
      ]
     },
     "metadata": {
      "needs_background": "light"
     },
     "output_type": "display_data"
    }
   ],
   "source": [
    "positive_count, negative_count = dataset['class'].value_counts()\n",
    "plt.barh([\"#negative\",\"#positive\"], [negative_count, positive_count])\n",
    "print(\"NEGATIVE:  \"+ str(negative_count))\n",
    "print(\"POSITIVE:  \"+ str(positive_count))"
   ]
  },
  {
   "cell_type": "code",
   "execution_count": 14,
   "id": "74bbeaca",
   "metadata": {},
   "outputs": [
    {
     "name": "stdout",
     "output_type": "stream",
     "text": [
      "NEGATIVE:  78\n",
      "POSITIVE:  173\n"
     ]
    },
    {
     "data": {
      "image/png": "[encoded data removed]",
      "text/plain": [
       "<Figure size 432x288 with 1 Axes>"
      ]
     },
     "metadata": {
      "needs_background": "light"
     },
     "output_type": "display_data"
    }
   ],
   "source": [
    "dropped_positive_count, dropped_negative_count = dropped['class'].value_counts()\n",
    "plt.barh([\"#negative\",\"#positive\"], [dropped_negative_count, dropped_positive_count])\n",
    "print(\"NEGATIVE:  \"+ str(dropped_negative_count))\n",
    "print(\"POSITIVE:  \"+ str(dropped_positive_count))"
   ]
  },
  {
   "cell_type": "markdown",
   "id": "700fcaea",
   "metadata": {},
   "source": [
    "### Dataset balancing - UNDERSAMPLING\n",
    "Ejecting random samples from a class with multiple instances"
   ]
  },
  {
   "cell_type": "code",
   "execution_count": 15,
   "id": "87f43a5b",
   "metadata": {},
   "outputs": [
    {
     "name": "stdout",
     "output_type": "stream",
     "text": [
      "NEGATIVE:  200\n",
      "POSITIVE:  200\n"
     ]
    },
    {
     "data": {
      "image/png": "[encoded data removed]",
      "text/plain": [
       "<Figure size 432x288 with 1 Axes>"
      ]
     },
     "metadata": {
      "needs_background": "light"
     },
     "output_type": "display_data"
    }
   ],
   "source": [
    "df_majority_US = dataset[dataset['class'] == 1]\n",
    "df_minority_US = dataset[dataset['class'] == 0]\n",
    "\n",
    "df_majority_undersampled = resample(df_majority_US, replace = False, n_samples = negative_count, random_state = 0)\n",
    "df_undersampled = pd.concat([df_majority_undersampled, df_minority_US])\n",
    "undersampled_positive_count, undersampled_negative_count = df_undersampled['class'].value_counts()\n",
    "\n",
    "plt.barh([\"negative\",\"positive\"], [undersampled_negative_count, undersampled_positive_count])\n",
    "print(\"NEGATIVE:  \"+ str(undersampled_negative_count))\n",
    "print(\"POSITIVE:  \"+ str(undersampled_positive_count))"
   ]
  },
  {
   "cell_type": "markdown",
   "id": "7c09c7f4",
   "metadata": {},
   "source": [
    "### Dataset balancing - OVERSAMPLING\n",
    "Adding duplicates from a class with fewer instances"
   ]
  },
  {
   "cell_type": "code",
   "execution_count": 16,
   "id": "8312dcab",
   "metadata": {
    "scrolled": true
   },
   "outputs": [
    {
     "name": "stdout",
     "output_type": "stream",
     "text": [
      "NEGATIVE:  320\n",
      "POSITIVE:  320\n"
     ]
    },
    {
     "data": {
      "image/png": "[encoded data removed]",
      "text/plain": [
       "<Figure size 432x288 with 1 Axes>"
      ]
     },
     "metadata": {
      "needs_background": "light"
     },
     "output_type": "display_data"
    }
   ],
   "source": [
    "df_majority_OS = dataset[dataset['class'] == 1]\n",
    "df_minority_OS = dataset[dataset['class'] == 0]\n",
    "\n",
    "df_minority_upsampled = resample(df_minority_OS, replace=True, n_samples=positive_count, random_state=0)\n",
    "df_upsampled = pd.concat([df_majority_OS, df_minority_upsampled])\n",
    "oversampled_positive_count, oversampled_negative_count = df_upsampled['class'].value_counts()\n",
    "\n",
    "plt.barh([\"negative\",\"positive\"], [oversampled_negative_count, oversampled_positive_count])\n",
    "print(\"NEGATIVE:  \"+ str(oversampled_negative_count))\n",
    "print(\"POSITIVE:  \"+ str(oversampled_positive_count))"
   ]
  },
  {
   "cell_type": "markdown",
   "id": "98e85db5",
   "metadata": {},
   "source": [
    "# Split dataseta to train and test"
   ]
  },
  {
   "cell_type": "markdown",
   "id": "8e10ed2c",
   "metadata": {},
   "source": [
    "### imbalanced"
   ]
  },
  {
   "cell_type": "code",
   "execution_count": 17,
   "id": "d2371d06",
   "metadata": {},
   "outputs": [],
   "source": [
    "X_imbalanced = dataset.drop(\"class\", axis=1).values\n",
    "y_imbalanced = dataset[\"class\"].values\n",
    "\n",
    "X_train_imbalanced ,X_test_imbalanced, y_train_imbalanced, y_test_imbalanced = train_test_split(X_imbalanced,y_imbalanced,test_size = 0.2, random_state = 1)"
   ]
  },
  {
   "cell_type": "markdown",
   "id": "a2e10045",
   "metadata": {},
   "source": [
    "### undersampling"
   ]
  },
  {
   "cell_type": "code",
   "execution_count": 18,
   "id": "fb48a71c",
   "metadata": {},
   "outputs": [],
   "source": [
    "X_undersampled = df_undersampled.drop(\"class\",axis = 1).values\n",
    "y_undersampled = df_undersampled[\"class\"].values\n",
    "\n",
    "X_train_undersampled,X_test_undersampled, y_train_undersampled, y_test_undersampled = train_test_split(X_undersampled,y_undersampled,test_size = 0.2, random_state = 1)"
   ]
  },
  {
   "cell_type": "markdown",
   "id": "c4688cf9",
   "metadata": {},
   "source": [
    "### upsampling"
   ]
  },
  {
   "cell_type": "code",
   "execution_count": 19,
   "id": "899e88d8",
   "metadata": {},
   "outputs": [],
   "source": [
    "X_upsampled = df_upsampled.drop(\"class\",axis = 1).values\n",
    "y_upsampled = df_upsampled[\"class\"].values\n",
    "\n",
    "X_train_upsampled,X_test_upsampled, y_train_upsampled, y_test_upsampled = train_test_split(X_upsampled,y_upsampled,test_size = 0.2, random_state = 1)"
   ]
  },
  {
   "cell_type": "markdown",
   "id": "4e7fb809",
   "metadata": {},
   "source": [
    "# Additional functions"
   ]
  },
  {
   "cell_type": "markdown",
   "id": "d2744c2b",
   "metadata": {},
   "source": [
    "## Evaluate model"
   ]
  },
  {
   "cell_type": "code",
   "execution_count": 20,
   "id": "72ad68f1",
   "metadata": {},
   "outputs": [],
   "source": [
    "def eval_model(y_true_, y_pred_):\n",
    "    accuracy = accuracy_score(y_true_, y_pred_)\n",
    "    f1 = f1_score(y_true_, y_pred_)\n",
    "    precision = precision_score(y_true_, y_pred_)\n",
    "    recall = recall_score(y_true_, y_pred_)\n",
    "    conf_matrix = confusion_matrix(y_true=y_true_, y_pred=y_pred_)\n",
    "    TN, FP, FN, TP = conf_matrix.ravel()\n",
    "    sensitivity = TP / (TP + FN)\n",
    "    specificity = TN / (TN + FP)\n",
    "\n",
    "    print(\"Accuracy : \", accuracy)\n",
    "    print(\"F1 Score: \", f1)\n",
    "    print(\"Precision: \", precision)\n",
    "    print(\"Recall: \", recall)\n",
    "    print(\"Confuse matrix:\")\n",
    "    print(conf_matrix)\n",
    "    print(\"True positive: \", TP)\n",
    "    print(\"False positive: \", FP)\n",
    "    print(\"True negative: \", TN)\n",
    "    print(\"False negative: \", FN)\n",
    "    print(\"Sensitivity: \", sensitivity)\n",
    "    print(\"Specificity: \", specificity)"
   ]
  },
  {
   "cell_type": "markdown",
   "id": "d320c9d5",
   "metadata": {},
   "source": [
    "### Plot AUC-ROC curve"
   ]
  },
  {
   "cell_type": "code",
   "execution_count": 21,
   "id": "219e44d5",
   "metadata": {},
   "outputs": [],
   "source": [
    "def auc_roc_plot(test, prediction):\n",
    "    fpr, tpr, threshold = roc_curve(test, prediction)\n",
    "    roc_auc = auc(fpr, tpr)\n",
    "\n",
    "    plt.title('AUC-ROC curve')\n",
    "    plt.plot(fpr, tpr, 'b', label = 'AUC = %0.2f' % roc_auc)\n",
    "    plt.legend(loc = 'lower right')\n",
    "    plt.plot([0, 1], [0, 1],'r--')\n",
    "    plt.xlim([0, 1])\n",
    "    plt.ylim([0, 1])\n",
    "    plt.ylabel('True Positive Rate')\n",
    "    plt.xlabel('False Positive Rate')\n",
    "    plt.show()"
   ]
  },
  {
   "cell_type": "markdown",
   "id": "0d8652fd",
   "metadata": {},
   "source": [
    "### Plot confusion matrix"
   ]
  },
  {
   "cell_type": "code",
   "execution_count": 22,
   "id": "5406490c",
   "metadata": {},
   "outputs": [],
   "source": [
    "def plot_conf_matrix(matrix):\n",
    "    class_names=['N','P']\n",
    "\n",
    "    # Create pandas dataframe\n",
    "    dataframe = pd.DataFrame(matrix, index=class_names, columns=class_names)\n",
    "\n",
    "    # Create heatmap\n",
    "    sn.heatmap(dataframe, annot=True, cbar=None, cmap=\"Blues\")\n",
    "    plt.title(\"Confusion Matrix\"), plt.tight_layout()\n",
    "    plt.ylabel(\"True Class\"), plt.xlabel(\"Predicted Class\")\n",
    "    plt.show()"
   ]
  },
  {
   "cell_type": "markdown",
   "id": "03841c16",
   "metadata": {},
   "source": [
    "# Prediction algorithms with cross-validation"
   ]
  },
  {
   "cell_type": "markdown",
   "id": "87e6bca0",
   "metadata": {},
   "source": [
    "## LinearSVC"
   ]
  },
  {
   "cell_type": "markdown",
   "id": "a401da7d",
   "metadata": {},
   "source": [
    "### imbalanced"
   ]
  },
  {
   "cell_type": "code",
   "execution_count": 23,
   "id": "060c3696",
   "metadata": {},
   "outputs": [
    {
     "name": "stdout",
     "output_type": "stream",
     "text": [
      "[0.86538462 0.92307692 0.90384615 0.86538462 0.96153846 0.88461538\n",
      " 0.98076923 0.92307692 0.94230769 0.98076923]\n",
      "Mean:  0.923076923076923\n"
     ]
    }
   ],
   "source": [
    "scaler = StandardScaler()\n",
    "svc_model = LinearSVC()\n",
    "\n",
    "# create a pipeline that standardizes, that runs LinearSVC\n",
    "pipeline = make_pipeline(scaler, svc_model)\n",
    "kf = StratifiedKFold(n_splits=10, shuffle=True, random_state=1)\n",
    "svc_cv_results_imbalanced = cross_val_score(pipeline, X_imbalanced, y_imbalanced, cv=kf, scoring=\"accuracy\", n_jobs=-1)\n",
    "\n",
    "print(svc_cv_results_imbalanced)\n",
    "print(\"Mean: \", svc_cv_results_imbalanced.mean())"
   ]
  },
  {
   "cell_type": "markdown",
   "id": "dd509354",
   "metadata": {},
   "source": [
    "### undersampling"
   ]
  },
  {
   "cell_type": "code",
   "execution_count": 24,
   "id": "e4d7ee31",
   "metadata": {},
   "outputs": [
    {
     "name": "stdout",
     "output_type": "stream",
     "text": [
      "[0.875 0.975 0.95  0.925 0.925 0.85  0.95  0.925 0.875 0.975]\n",
      "Mean:  0.9225\n"
     ]
    }
   ],
   "source": [
    "scaler = StandardScaler()\n",
    "svc_model = LinearSVC()\n",
    "\n",
    "# create a pipeline that standardizes, than runs LinearSVC\n",
    "pipeline = make_pipeline(scaler, svc_model)\n",
    "kf = StratifiedKFold(n_splits=10, shuffle=True, random_state=1)\n",
    "svc_cv_results_undersampled = cross_val_score(pipeline, X_undersampled, y_undersampled, cv=kf, scoring=\"accuracy\", n_jobs=-1)\n",
    "\n",
    "print(svc_cv_results_undersampled)\n",
    "print(\"Mean: \", svc_cv_results_undersampled.mean())"
   ]
  },
  {
   "cell_type": "markdown",
   "id": "e4b94916",
   "metadata": {},
   "source": [
    "### upsampling"
   ]
  },
  {
   "cell_type": "code",
   "execution_count": 25,
   "id": "45345990",
   "metadata": {},
   "outputs": [
    {
     "name": "stdout",
     "output_type": "stream",
     "text": [
      "[0.890625 0.90625  0.953125 0.890625 0.953125 0.9375   0.9375   0.953125\n",
      " 0.84375  0.953125]\n",
      "Mean:  0.921875\n"
     ]
    }
   ],
   "source": [
    "scaler = StandardScaler()\n",
    "svc_model = LinearSVC()\n",
    "\n",
    "# create a pipeline that standardizes, than runs LinearSVC\n",
    "pipeline = make_pipeline(scaler, svc_model)\n",
    "kf = StratifiedKFold(n_splits=10, shuffle=True, random_state=1)\n",
    "svc_cv_results_upsampled = cross_val_score(pipeline, X_upsampled, y_upsampled, cv=kf, scoring=\"accuracy\", n_jobs=-1)\n",
    "\n",
    "print(svc_cv_results_upsampled)\n",
    "print(\"Mean: \", svc_cv_results_upsampled.mean())"
   ]
  },
  {
   "cell_type": "markdown",
   "id": "553022fe",
   "metadata": {},
   "source": [
    "### comparison imbalanced, undersampling, upsampling"
   ]
  },
  {
   "cell_type": "code",
   "execution_count": 26,
   "id": "bc4c030d",
   "metadata": {},
   "outputs": [
    {
     "data": {
      "image/png": "[encoded data removed]",
      "text/plain": [
       "<Figure size 360x216 with 1 Axes>"
      ]
     },
     "metadata": {
      "needs_background": "light"
     },
     "output_type": "display_data"
    }
   ],
   "source": [
    "plt.figure(figsize=(5, 3))\n",
    "plt.ylim(0.8, 1.00)\n",
    "plt.bar(['mean_acc_im', 'mean_acc_under', 'mean_acc_up'], [svc_cv_results_imbalanced.mean(), svc_cv_results_undersampled.mean(), svc_cv_results_upsampled.mean()])\n",
    "plt.suptitle('LinearSVC comparison between imbalanced, undersampling and upsampling')\n",
    "plt.show()"
   ]
  },
  {
   "cell_type": "markdown",
   "id": "74d0e680",
   "metadata": {},
   "source": [
    "## Naive Bayes"
   ]
  },
  {
   "cell_type": "markdown",
   "id": "46727808",
   "metadata": {},
   "source": [
    "### imbalanced"
   ]
  },
  {
   "cell_type": "code",
   "execution_count": 27,
   "id": "1761b978",
   "metadata": {},
   "outputs": [
    {
     "name": "stdout",
     "output_type": "stream",
     "text": [
      "[0.84615385 0.90384615 0.86538462 0.86538462 0.88461538 0.90384615\n",
      " 0.90384615 0.88461538 0.90384615 0.96153846]\n",
      "Mean:  0.8923076923076924\n"
     ]
    }
   ],
   "source": [
    "scaler = StandardScaler()\n",
    "nb_model = GaussianNB()\n",
    "\n",
    "# create a pipeline that standardizes, that runs Naive bayes\n",
    "pipeline = make_pipeline(scaler, nb_model)\n",
    "kf = StratifiedKFold(n_splits=10, shuffle=True, random_state=1)\n",
    "nb_cv_results_imbalanced = cross_val_score(pipeline, X_imbalanced, y_imbalanced, cv=kf, scoring=\"accuracy\", n_jobs=-1)\n",
    "\n",
    "print(nb_cv_results_imbalanced)\n",
    "print(\"Mean: \", nb_cv_results_imbalanced.mean())"
   ]
  },
  {
   "cell_type": "markdown",
   "id": "8457efe9",
   "metadata": {},
   "source": [
    "### undersampling"
   ]
  },
  {
   "cell_type": "code",
   "execution_count": 28,
   "id": "bde14791",
   "metadata": {},
   "outputs": [
    {
     "name": "stdout",
     "output_type": "stream",
     "text": [
      "[0.95  0.95  0.9   0.775 0.85  0.925 0.95  0.95  0.825 0.8  ]\n",
      "Mean:  0.8875\n"
     ]
    }
   ],
   "source": [
    "scaler = StandardScaler()\n",
    "nb_model = GaussianNB()\n",
    "\n",
    "# create a pipeline that standardizes, that runs Naive bayes\n",
    "pipeline = make_pipeline(scaler, nb_model)\n",
    "kf = StratifiedKFold(n_splits=10, shuffle=True, random_state=1)\n",
    "nb_cv_results_undersampled = cross_val_score(pipeline, X_undersampled, y_undersampled, cv=kf, scoring=\"accuracy\", n_jobs=-1)\n",
    "\n",
    "print(nb_cv_results_undersampled)\n",
    "print(\"Mean: \", nb_cv_results_undersampled.mean())"
   ]
  },
  {
   "cell_type": "markdown",
   "id": "ed71aa96",
   "metadata": {},
   "source": [
    "### upsampling"
   ]
  },
  {
   "cell_type": "code",
   "execution_count": 29,
   "id": "be6dc2a4",
   "metadata": {},
   "outputs": [
    {
     "name": "stdout",
     "output_type": "stream",
     "text": [
      "[0.8125   0.875    0.9375   0.828125 0.875    0.859375 0.921875 0.921875\n",
      " 0.875    0.90625 ]\n",
      "Mean:  0.88125\n"
     ]
    }
   ],
   "source": [
    "scaler = StandardScaler()\n",
    "nb_model = GaussianNB()\n",
    "\n",
    "# create a pipeline that standardizes, that runs Naive bayes\n",
    "pipeline = make_pipeline(scaler, nb_model)\n",
    "kf = StratifiedKFold(n_splits=10, shuffle=True, random_state=1)\n",
    "nb_cv_results_upsampled = cross_val_score(pipeline, X_upsampled, y_upsampled, cv=kf, scoring=\"accuracy\", n_jobs=-1)\n",
    "\n",
    "print(nb_cv_results_upsampled)\n",
    "print(\"Mean: \", nb_cv_results_upsampled.mean())"
   ]
  },
  {
   "cell_type": "markdown",
   "id": "14d73561",
   "metadata": {},
   "source": [
    "### comparison imbalanced, undersampling, upsampling"
   ]
  },
  {
   "cell_type": "code",
   "execution_count": 30,
   "id": "63b2c0c9",
   "metadata": {},
   "outputs": [
    {
     "data": {
      "image/png": "[encoded data removed]",
      "text/plain": [
       "<Figure size 360x216 with 1 Axes>"
      ]
     },
     "metadata": {
      "needs_background": "light"
     },
     "output_type": "display_data"
    }
   ],
   "source": [
    "plt.figure(figsize=(5, 3))\n",
    "plt.ylim(0.8, 1.00)\n",
    "plt.bar(['mean_acc_im', 'mean_acc_under', 'mean_acc_up'], [nb_cv_results_imbalanced.mean(), nb_cv_results_undersampled.mean(), nb_cv_results_upsampled.mean()])\n",
    "plt.suptitle('Naive Bayes comparison between imbalanced, undersampling and upsampling')\n",
    "plt.show()"
   ]
  },
  {
   "cell_type": "markdown",
   "id": "ca6b28d1",
   "metadata": {},
   "source": [
    "## K-Nearest Neighbors"
   ]
  },
  {
   "cell_type": "markdown",
   "id": "9089b758",
   "metadata": {},
   "source": [
    "### imbalanced"
   ]
  },
  {
   "cell_type": "code",
   "execution_count": 31,
   "id": "eb36a0ea",
   "metadata": {},
   "outputs": [
    {
     "name": "stdout",
     "output_type": "stream",
     "text": [
      "[0.84615385 0.98076923 0.94230769 0.90384615 0.94230769 0.92307692\n",
      " 0.92307692 0.94230769 0.98076923 0.90384615]\n",
      "Mean:  0.9288461538461539\n"
     ]
    }
   ],
   "source": [
    "scaler = StandardScaler()\n",
    "knn_classifier = KNeighborsClassifier(n_neighbors=5)\n",
    "\n",
    "pipeline = make_pipeline(scaler, knn_classifier)\n",
    "kf = StratifiedKFold(n_splits=10, shuffle=True, random_state=1)\n",
    "knn_cv_results_imbalanced = cross_val_score(pipeline, X_imbalanced, y_imbalanced, cv=kf, scoring=\"accuracy\", n_jobs=-1)\n",
    "\n",
    "print(knn_cv_results_imbalanced)\n",
    "print(\"Mean: \", knn_cv_results_imbalanced.mean())"
   ]
  },
  {
   "cell_type": "markdown",
   "id": "3ab2d66a",
   "metadata": {},
   "source": [
    "### undersampling"
   ]
  },
  {
   "cell_type": "code",
   "execution_count": 32,
   "id": "225c90f4",
   "metadata": {},
   "outputs": [
    {
     "name": "stdout",
     "output_type": "stream",
     "text": [
      "[0.95  0.95  0.95  0.85  0.975 0.875 0.925 0.95  0.875 0.975]\n",
      "Mean:  0.9275\n"
     ]
    }
   ],
   "source": [
    "scaler = StandardScaler()\n",
    "knn_classifier = KNeighborsClassifier(n_neighbors=5)\n",
    "\n",
    "pipeline = make_pipeline(scaler, knn_classifier)\n",
    "kf = StratifiedKFold(n_splits=10, shuffle=True, random_state=1)\n",
    "knn_cv_results_undersampled = cross_val_score(pipeline, X_undersampled, y_undersampled, cv=kf, scoring=\"accuracy\", n_jobs=-1)\n",
    "\n",
    "print(knn_cv_results_undersampled)\n",
    "print(\"Mean: \", knn_cv_results_undersampled.mean())"
   ]
  },
  {
   "cell_type": "markdown",
   "id": "b62df8e3",
   "metadata": {},
   "source": [
    "### upsampling"
   ]
  },
  {
   "cell_type": "code",
   "execution_count": 33,
   "id": "c92d7663",
   "metadata": {},
   "outputs": [
    {
     "name": "stdout",
     "output_type": "stream",
     "text": [
      "[0.90625  0.984375 0.953125 0.96875  0.96875  0.953125 0.9375   0.96875\n",
      " 0.90625  0.921875]\n",
      "Mean:  0.946875\n"
     ]
    }
   ],
   "source": [
    "scaler = StandardScaler()\n",
    "knn_classifier = KNeighborsClassifier(n_neighbors=5) # 3\n",
    "\n",
    "pipeline = make_pipeline(scaler, knn_classifier)\n",
    "kf = StratifiedKFold(n_splits=10, shuffle=True, random_state=1)\n",
    "knn_cv_results_upsampled = cross_val_score(pipeline, X_upsampled, y_upsampled, cv=kf, scoring=\"accuracy\", n_jobs=-1)\n",
    "\n",
    "print(knn_cv_results_upsampled)\n",
    "print(\"Mean: \", knn_cv_results_upsampled.mean())"
   ]
  },
  {
   "cell_type": "markdown",
   "id": "cbb496be",
   "metadata": {},
   "source": [
    "### comparison imbalanced, undersampling, upsampling"
   ]
  },
  {
   "cell_type": "code",
   "execution_count": 34,
   "id": "af8e126a",
   "metadata": {},
   "outputs": [
    {
     "data": {
      "image/png": "[encoded data removed]",
      "text/plain": [
       "<Figure size 360x216 with 1 Axes>"
      ]
     },
     "metadata": {
      "needs_background": "light"
     },
     "output_type": "display_data"
    }
   ],
   "source": [
    "plt.figure(figsize=(5, 3))\n",
    "plt.ylim(0.8, 1.00)\n",
    "plt.bar(['mean_acc_im', 'mean_acc_under', 'mean_acc_up'], [knn_cv_results_imbalanced.mean(), knn_cv_results_undersampled.mean(), knn_cv_results_upsampled.mean()])\n",
    "plt.suptitle('K-Nearest Neighbors comparison between imbalanced, undersampling and upsampling')\n",
    "plt.show()"
   ]
  },
  {
   "cell_type": "markdown",
   "id": "0ece1ded",
   "metadata": {},
   "source": [
    "## Logistic Regression"
   ]
  },
  {
   "cell_type": "markdown",
   "id": "e0bd35c1",
   "metadata": {},
   "source": [
    "### imbalanced "
   ]
  },
  {
   "cell_type": "code",
   "execution_count": 35,
   "id": "d7191032",
   "metadata": {
    "scrolled": true
   },
   "outputs": [
    {
     "name": "stdout",
     "output_type": "stream",
     "text": [
      "[0.86538462 0.92307692 0.90384615 0.84615385 0.96153846 0.88461538\n",
      " 0.98076923 0.92307692 0.96153846 0.98076923]\n",
      "Mean:  0.923076923076923\n"
     ]
    }
   ],
   "source": [
    "scaler = StandardScaler()\n",
    "lr_classifier = LogisticRegression()\n",
    "\n",
    "pipeline = make_pipeline(scaler, lr_classifier)\n",
    "kf = StratifiedKFold(n_splits=10, shuffle=True, random_state=1)\n",
    "lr_cv_results_imbalanced = cross_val_score(pipeline, X_imbalanced, y_imbalanced, cv=kf, scoring=\"accuracy\", n_jobs=-1)\n",
    "\n",
    "print(lr_cv_results_imbalanced)\n",
    "print(\"Mean: \", lr_cv_results_imbalanced.mean())"
   ]
  },
  {
   "cell_type": "markdown",
   "id": "4e572885",
   "metadata": {},
   "source": [
    "### undersampling"
   ]
  },
  {
   "cell_type": "code",
   "execution_count": 36,
   "id": "0380c591",
   "metadata": {
    "scrolled": true
   },
   "outputs": [
    {
     "name": "stdout",
     "output_type": "stream",
     "text": [
      "[0.925 0.975 0.95  0.925 0.925 0.85  0.975 0.925 0.875 0.975]\n",
      "Mean:  0.9299999999999999\n"
     ]
    }
   ],
   "source": [
    "scaler = StandardScaler()\n",
    "lr_classifier = LogisticRegression()\n",
    "\n",
    "pipeline = make_pipeline(scaler, lr_classifier)\n",
    "kf = StratifiedKFold(n_splits=10, shuffle=True, random_state=1)\n",
    "lr_cv_results_undersampled = cross_val_score(pipeline, X_undersampled, y_undersampled, cv=kf, scoring=\"accuracy\", n_jobs=-1)\n",
    "\n",
    "print(lr_cv_results_undersampled)\n",
    "print(\"Mean: \", lr_cv_results_undersampled.mean())"
   ]
  },
  {
   "cell_type": "markdown",
   "id": "ca218a62",
   "metadata": {},
   "source": [
    "### upsampling"
   ]
  },
  {
   "cell_type": "code",
   "execution_count": 37,
   "id": "ae4dd530",
   "metadata": {
    "scrolled": true
   },
   "outputs": [
    {
     "name": "stdout",
     "output_type": "stream",
     "text": [
      "[0.890625 0.921875 0.953125 0.890625 0.9375   0.953125 0.9375   0.96875\n",
      " 0.84375  0.953125]\n",
      "Mean:  0.925\n"
     ]
    }
   ],
   "source": [
    "scaler = StandardScaler()\n",
    "lr_classifier = LogisticRegression()\n",
    "\n",
    "pipeline = make_pipeline(scaler, lr_classifier)\n",
    "kf = StratifiedKFold(n_splits=10, shuffle=True, random_state=1)\n",
    "lr_cv_results_upsampled = cross_val_score(pipeline, X_upsampled, y_upsampled, cv=kf, scoring=\"accuracy\", n_jobs=-1)\n",
    "\n",
    "print(lr_cv_results_upsampled)\n",
    "print(\"Mean: \", lr_cv_results_upsampled.mean())"
   ]
  },
  {
   "cell_type": "markdown",
   "id": "60ca969a",
   "metadata": {},
   "source": [
    "### comparison imbalanced, undersampling, upsampling"
   ]
  },
  {
   "cell_type": "code",
   "execution_count": 38,
   "id": "42f068af",
   "metadata": {},
   "outputs": [
    {
     "data": {
      "image/png": "[encoded data removed]",
      "text/plain": [
       "<Figure size 360x216 with 1 Axes>"
      ]
     },
     "metadata": {
      "needs_background": "light"
     },
     "output_type": "display_data"
    }
   ],
   "source": [
    "plt.figure(figsize=(5, 3))\n",
    "plt.ylim(0.8, 1.00)\n",
    "plt.bar(['mean_acc_im', 'mean_acc_under', 'mean_acc_up'], [lr_cv_results_imbalanced.mean(), lr_cv_results_undersampled.mean(), lr_cv_results_upsampled.mean()])\n",
    "plt.suptitle('Logistic Regression comparison between imbalanced, undersampling and upsampling')\n",
    "plt.show()"
   ]
  },
  {
   "cell_type": "markdown",
   "id": "df504a70",
   "metadata": {},
   "source": [
    "## Decision tree"
   ]
  },
  {
   "cell_type": "markdown",
   "id": "cf227de6",
   "metadata": {},
   "source": [
    "### imbalanced"
   ]
  },
  {
   "cell_type": "code",
   "execution_count": 39,
   "id": "4d97c0af",
   "metadata": {
    "scrolled": false
   },
   "outputs": [
    {
     "name": "stdout",
     "output_type": "stream",
     "text": [
      "[0.92307692 0.98076923 0.98076923 0.94230769 0.94230769 0.90384615\n",
      " 1.         0.98076923 0.88461538 0.98076923]\n",
      "Mean:  0.9519230769230769\n"
     ]
    }
   ],
   "source": [
    "scaler = StandardScaler()\n",
    "dt_classifier = DecisionTreeClassifier(random_state=0)\n",
    "\n",
    "pipeline = make_pipeline(scaler, dt_classifier)\n",
    "kf = StratifiedKFold(n_splits=10, shuffle=True, random_state=1)\n",
    "dt_cv_results_imbalanced = cross_val_score(pipeline, X_imbalanced, y_imbalanced, cv=kf, scoring=\"accuracy\", n_jobs=-1)\n",
    "\n",
    "print(dt_cv_results_imbalanced)\n",
    "print(\"Mean: \", dt_cv_results_imbalanced.mean())"
   ]
  },
  {
   "cell_type": "markdown",
   "id": "e2e0b476",
   "metadata": {},
   "source": [
    "### undersampling"
   ]
  },
  {
   "cell_type": "code",
   "execution_count": 40,
   "id": "7e7740b6",
   "metadata": {},
   "outputs": [
    {
     "name": "stdout",
     "output_type": "stream",
     "text": [
      "[0.975 0.975 0.95  0.925 0.925 0.9   0.95  0.975 0.975 0.975]\n",
      "Mean:  0.9525\n"
     ]
    }
   ],
   "source": [
    "scaler = StandardScaler()\n",
    "dt_classifier = DecisionTreeClassifier(random_state=0)\n",
    "\n",
    "pipeline = make_pipeline(scaler, dt_classifier)\n",
    "kf = StratifiedKFold(n_splits=10, shuffle=True, random_state=1)\n",
    "dt_cv_results_undersampled = cross_val_score(pipeline, X_undersampled, y_undersampled, cv=kf, scoring=\"accuracy\", n_jobs=-1)\n",
    "\n",
    "print(dt_cv_results_undersampled)\n",
    "print(\"Mean: \", dt_cv_results_undersampled.mean())"
   ]
  },
  {
   "cell_type": "markdown",
   "id": "0047937c",
   "metadata": {},
   "source": [
    "### upsampling"
   ]
  },
  {
   "cell_type": "code",
   "execution_count": 41,
   "id": "b6a45b80",
   "metadata": {},
   "outputs": [
    {
     "name": "stdout",
     "output_type": "stream",
     "text": [
      "[0.953125 1.       1.       0.953125 0.984375 0.96875  0.984375 0.984375\n",
      " 0.953125 1.      ]\n",
      "Mean:  0.978125\n"
     ]
    }
   ],
   "source": [
    "scaler = StandardScaler()\n",
    "dt_classifier = DecisionTreeClassifier(random_state=0)\n",
    "\n",
    "pipeline = make_pipeline(scaler, dt_classifier)\n",
    "kf = StratifiedKFold(n_splits=10, shuffle=True, random_state=1)\n",
    "dt_cv_results_upsampled = cross_val_score(pipeline, X_upsampled, y_upsampled, cv=kf, scoring=\"accuracy\", n_jobs=-1)\n",
    "\n",
    "print(dt_cv_results_upsampled)\n",
    "print(\"Mean: \", dt_cv_results_upsampled.mean())"
   ]
  },
  {
   "cell_type": "markdown",
   "id": "79790c88",
   "metadata": {},
   "source": [
    "### comparison imbalanced, undersampling, upsampling"
   ]
  },
  {
   "cell_type": "code",
   "execution_count": 42,
   "id": "028534da",
   "metadata": {},
   "outputs": [
    {
     "data": {
      "image/png": "[encoded data removed]",
      "text/plain": [
       "<Figure size 360x216 with 1 Axes>"
      ]
     },
     "metadata": {
      "needs_background": "light"
     },
     "output_type": "display_data"
    }
   ],
   "source": [
    "plt.figure(figsize=(5, 3))\n",
    "plt.ylim(0.8, 1.00)\n",
    "plt.bar(['mean_acc_im', 'mean_acc_under', 'mean_acc_up'], [dt_cv_results_imbalanced.mean(), dt_cv_results_undersampled.mean(), dt_cv_results_upsampled.mean()])\n",
    "plt.suptitle('Decision tree comparison between imbalanced, undersampling and upsampling')\n",
    "plt.show()"
   ]
  },
  {
   "cell_type": "markdown",
   "id": "9cb0c08e",
   "metadata": {},
   "source": [
    "## Gradient Boost"
   ]
  },
  {
   "cell_type": "markdown",
   "id": "df1b7f76",
   "metadata": {},
   "source": [
    "### imbalanced"
   ]
  },
  {
   "cell_type": "code",
   "execution_count": 43,
   "id": "ee8c26b8",
   "metadata": {},
   "outputs": [
    {
     "name": "stdout",
     "output_type": "stream",
     "text": [
      "[0.96153846 0.98076923 0.98076923 0.92307692 0.94230769 0.96153846\n",
      " 0.98076923 1.         0.96153846 0.98076923]\n",
      "Mean:  0.9673076923076922\n"
     ]
    }
   ],
   "source": [
    "scaler = StandardScaler()\n",
    "gb_model = GradientBoostingClassifier(learning_rate=0.1)\n",
    "\n",
    "pipeline = make_pipeline(scaler, gb_model)\n",
    "kf = StratifiedKFold(n_splits=10, shuffle=True, random_state=1)\n",
    "gb_cv_results_imbalanced = cross_val_score(pipeline, X_imbalanced, y_imbalanced, cv=kf, scoring=\"accuracy\", n_jobs=-1)\n",
    "\n",
    "print(gb_cv_results_imbalanced)\n",
    "print(\"Mean: \", gb_cv_results_imbalanced.mean())"
   ]
  },
  {
   "cell_type": "markdown",
   "id": "6194d0b2",
   "metadata": {},
   "source": [
    "### undersampling"
   ]
  },
  {
   "cell_type": "code",
   "execution_count": 44,
   "id": "2629816e",
   "metadata": {},
   "outputs": [
    {
     "name": "stdout",
     "output_type": "stream",
     "text": [
      "[0.95  0.975 0.95  0.95  0.975 0.95  0.95  0.975 0.925 1.   ]\n",
      "Mean:  0.96\n"
     ]
    }
   ],
   "source": [
    "scaler = StandardScaler()\n",
    "gb_model = GradientBoostingClassifier(learning_rate=0.1)\n",
    "\n",
    "pipeline = make_pipeline(scaler, gb_model)\n",
    "kf = StratifiedKFold(n_splits=10, shuffle=True, random_state=1)\n",
    "gb_cv_results_undersampled = cross_val_score(pipeline, X_undersampled, y_undersampled, cv=kf, scoring=\"accuracy\", n_jobs=-1)\n",
    "\n",
    "print(gb_cv_results_undersampled)\n",
    "print(\"Mean: \", gb_cv_results_undersampled.mean())"
   ]
  },
  {
   "cell_type": "markdown",
   "id": "e303192f",
   "metadata": {},
   "source": [
    "### upsampling"
   ]
  },
  {
   "cell_type": "code",
   "execution_count": 45,
   "id": "b806315e",
   "metadata": {},
   "outputs": [
    {
     "name": "stdout",
     "output_type": "stream",
     "text": [
      "[0.96875  1.       0.984375 0.953125 0.984375 0.96875  0.984375 1.\n",
      " 0.9375   1.      ]\n",
      "Mean:  0.978125\n"
     ]
    }
   ],
   "source": [
    "scaler = StandardScaler()\n",
    "gb_model = GradientBoostingClassifier(learning_rate=0.1)\n",
    "\n",
    "pipeline = make_pipeline(scaler, gb_model)\n",
    "kf = StratifiedKFold(n_splits=10, shuffle=True, random_state=1)\n",
    "gb_cv_results_upsampled = cross_val_score(pipeline, X_upsampled, y_upsampled, cv=kf, scoring=\"accuracy\", n_jobs=-1)\n",
    "\n",
    "print(gb_cv_results_upsampled)\n",
    "print(\"Mean: \", gb_cv_results_upsampled.mean())"
   ]
  },
  {
   "cell_type": "markdown",
   "id": "9939a89c",
   "metadata": {},
   "source": [
    "### comparison imbalanced, undersampling, upsampling"
   ]
  },
  {
   "cell_type": "code",
   "execution_count": 46,
   "id": "83173959",
   "metadata": {},
   "outputs": [
    {
     "data": {
      "image/png": "[encoded data removed]",
      "text/plain": [
       "<Figure size 360x216 with 1 Axes>"
      ]
     },
     "metadata": {
      "needs_background": "light"
     },
     "output_type": "display_data"
    }
   ],
   "source": [
    "plt.figure(figsize=(5, 3))\n",
    "plt.ylim(0.8, 1.00)\n",
    "plt.bar(['mean_acc_im', 'mean_acc_under', 'mean_acc_up'], [gb_cv_results_imbalanced.mean(), gb_cv_results_undersampled.mean(), gb_cv_results_upsampled.mean()])\n",
    "plt.suptitle('Gradient Boost comparison between imbalanced, undersampling and upsampling')\n",
    "plt.show()"
   ]
  },
  {
   "cell_type": "markdown",
   "id": "2fef6b83",
   "metadata": {},
   "source": [
    "## Random forest"
   ]
  },
  {
   "cell_type": "markdown",
   "id": "a58a7f44",
   "metadata": {},
   "source": [
    "### imbalanced"
   ]
  },
  {
   "cell_type": "code",
   "execution_count": 47,
   "id": "18a4f5b4",
   "metadata": {},
   "outputs": [
    {
     "name": "stdout",
     "output_type": "stream",
     "text": [
      "[0.96153846 0.98076923 0.98076923 0.96153846 0.96153846 0.96153846\n",
      " 0.98076923 1.         0.98076923 1.        ]\n",
      "Mean:  0.9769230769230768\n"
     ]
    }
   ],
   "source": [
    "scaler = StandardScaler()\n",
    "rf_model = RandomForestClassifier()\n",
    "\n",
    "pipeline = make_pipeline(scaler, rf_model)\n",
    "kf = StratifiedKFold(n_splits=10, shuffle=True, random_state=1)\n",
    "rf_cv_results_imbalanced = cross_val_score(pipeline, X_imbalanced, y_imbalanced, cv=kf, scoring=\"accuracy\", n_jobs=-1)\n",
    "\n",
    "print(rf_cv_results_imbalanced)\n",
    "print(\"Mean: \", rf_cv_results_imbalanced.mean())"
   ]
  },
  {
   "cell_type": "markdown",
   "id": "2c36c223",
   "metadata": {},
   "source": [
    "### undersampling"
   ]
  },
  {
   "cell_type": "code",
   "execution_count": 48,
   "id": "3ac31f89",
   "metadata": {},
   "outputs": [
    {
     "name": "stdout",
     "output_type": "stream",
     "text": [
      "[0.975 0.975 0.95  0.95  0.975 0.925 1.    0.975 0.95  1.   ]\n",
      "Mean:  0.9674999999999999\n"
     ]
    }
   ],
   "source": [
    "scaler = StandardScaler()\n",
    "rf_model = RandomForestClassifier()\n",
    "\n",
    "pipeline = make_pipeline(scaler, rf_model)\n",
    "kf = StratifiedKFold(n_splits=10, shuffle=True, random_state=1)\n",
    "rf_cv_results_undersampled = cross_val_score(pipeline, X_undersampled, y_undersampled, cv=kf, scoring=\"accuracy\", n_jobs=-1)\n",
    "\n",
    "print(rf_cv_results_undersampled)\n",
    "print(\"Mean: \", rf_cv_results_undersampled.mean())"
   ]
  },
  {
   "cell_type": "markdown",
   "id": "29fd9f11",
   "metadata": {},
   "source": [
    "### upsampling"
   ]
  },
  {
   "cell_type": "code",
   "execution_count": 49,
   "id": "19835629",
   "metadata": {},
   "outputs": [
    {
     "name": "stdout",
     "output_type": "stream",
     "text": [
      "[0.96875  1.       1.       0.96875  0.984375 1.       0.984375 1.\n",
      " 0.96875  1.      ]\n",
      "Mean:  0.9875\n"
     ]
    }
   ],
   "source": [
    "scaler = StandardScaler()\n",
    "rf_model = RandomForestClassifier()\n",
    "\n",
    "pipeline = make_pipeline(scaler, rf_model)\n",
    "kf = StratifiedKFold(n_splits=10, shuffle=True, random_state=1)\n",
    "rf_cv_results_upsampled = cross_val_score(pipeline, X_upsampled, y_upsampled, cv=kf, scoring=\"accuracy\", n_jobs=-1)\n",
    "\n",
    "print(rf_cv_results_upsampled)\n",
    "print(\"Mean: \", rf_cv_results_upsampled.mean())"
   ]
  },
  {
   "cell_type": "markdown",
   "id": "1dc9d1c6",
   "metadata": {},
   "source": [
    "### comparison imbalanced, undersampling, upsampling"
   ]
  },
  {
   "cell_type": "code",
   "execution_count": 50,
   "id": "95482ab3",
   "metadata": {},
   "outputs": [
    {
     "data": {
      "image/png": "[encoded data removed]",
      "text/plain": [
       "<Figure size 360x216 with 1 Axes>"
      ]
     },
     "metadata": {
      "needs_background": "light"
     },
     "output_type": "display_data"
    }
   ],
   "source": [
    "plt.figure(figsize=(5, 3))\n",
    "plt.ylim(0.8, 1.00)\n",
    "plt.bar(['mean_acc_im', 'mean_acc_under', 'mean_acc_up'], [rf_cv_results_imbalanced.mean(), rf_cv_results_undersampled.mean(), rf_cv_results_upsampled.mean()])\n",
    "plt.suptitle('Random forest comparison between imbalanced, undersampling and upsampling')\n",
    "plt.show()"
   ]
  },
  {
   "cell_type": "markdown",
   "id": "c9fd3eb4",
   "metadata": {},
   "source": [
    "## Baseline classifier - DummyClassifier"
   ]
  },
  {
   "cell_type": "markdown",
   "id": "8ca51f21",
   "metadata": {},
   "source": [
    "### imbalanced"
   ]
  },
  {
   "cell_type": "code",
   "execution_count": 51,
   "id": "b9b5d20d",
   "metadata": {},
   "outputs": [
    {
     "name": "stdout",
     "output_type": "stream",
     "text": [
      "[0.57692308 0.57692308 0.57692308 0.65384615 0.5        0.53846154\n",
      " 0.5        0.53846154 0.65384615 0.57692308]\n",
      "Mean:  0.5692307692307692\n"
     ]
    }
   ],
   "source": [
    "scaler = StandardScaler()\n",
    "dummy = DummyClassifier(strategy='stratified', random_state=1)\n",
    "\n",
    "pipeline = make_pipeline(scaler, dummy)\n",
    "kf = StratifiedKFold(n_splits=10, shuffle=True, random_state=1)\n",
    "dummy_cv_results_imbalanced = cross_val_score(pipeline, X_imbalanced, y_imbalanced, cv=kf, scoring=\"accuracy\", n_jobs=-1)\n",
    "\n",
    "print(dummy_cv_results_imbalanced)\n",
    "print(\"Mean: \", dummy_cv_results_imbalanced.mean())"
   ]
  },
  {
   "cell_type": "markdown",
   "id": "266bedb0",
   "metadata": {},
   "source": [
    "### undersampling"
   ]
  },
  {
   "cell_type": "code",
   "execution_count": 52,
   "id": "d025f471",
   "metadata": {},
   "outputs": [
    {
     "name": "stdout",
     "output_type": "stream",
     "text": [
      "[0.65 0.65 0.65 0.65 0.65 0.65 0.65 0.65 0.65 0.65]\n",
      "Mean:  0.6500000000000001\n"
     ]
    }
   ],
   "source": [
    "scaler = StandardScaler()\n",
    "dummy = DummyClassifier(strategy='stratified', random_state=1)\n",
    "\n",
    "pipeline = make_pipeline(scaler, dummy)\n",
    "kf = StratifiedKFold(n_splits=10, shuffle=True, random_state=1)\n",
    "dummy_cv_results_undersampled = cross_val_score(pipeline, X_undersampled, y_undersampled, cv=kf, scoring=\"accuracy\", n_jobs=-1)\n",
    "\n",
    "print(dummy_cv_results_undersampled)\n",
    "print(\"Mean: \", dummy_cv_results_undersampled.mean())"
   ]
  },
  {
   "cell_type": "markdown",
   "id": "b3ae7b65",
   "metadata": {},
   "source": [
    "### upsampling"
   ]
  },
  {
   "cell_type": "code",
   "execution_count": 53,
   "id": "bbc76dd4",
   "metadata": {},
   "outputs": [
    {
     "name": "stdout",
     "output_type": "stream",
     "text": [
      "[0.546875 0.546875 0.546875 0.546875 0.546875 0.546875 0.546875 0.546875\n",
      " 0.546875 0.546875]\n",
      "Mean:  0.546875\n"
     ]
    }
   ],
   "source": [
    "scaler = StandardScaler()\n",
    "dummy = DummyClassifier(strategy='stratified', random_state=1)\n",
    "\n",
    "pipeline = make_pipeline(scaler, dummy)\n",
    "kf = StratifiedKFold(n_splits=10, shuffle=True, random_state=1)\n",
    "dummy_cv_results_upsampled = cross_val_score(pipeline, X_upsampled, y_upsampled, cv=kf, scoring=\"accuracy\", n_jobs=-1)\n",
    "\n",
    "print(dummy_cv_results_upsampled)\n",
    "print(\"Mean: \", dummy_cv_results_upsampled.mean())"
   ]
  },
  {
   "cell_type": "markdown",
   "id": "be786e7e",
   "metadata": {},
   "source": [
    "# Comparison between different algorithms"
   ]
  },
  {
   "cell_type": "code",
   "execution_count": 54,
   "id": "57c5010d",
   "metadata": {},
   "outputs": [
    {
     "data": {
      "image/png": "[encoded data removed]",
      "text/plain": [
       "<Figure size 1440x1080 with 8 Axes>"
      ]
     },
     "metadata": {
      "needs_background": "light"
     },
     "output_type": "display_data"
    }
   ],
   "source": [
    "plt.figure(figsize=(20, 15))\n",
    "plt.subplot(331)\n",
    "plt.gca().set_title('LinearSVC')\n",
    "plt.ylim(0.8, 1.00)\n",
    "plt.bar(['mean_acc_im', 'mean_acc_under', 'mean_acc_up'], [svc_cv_results_imbalanced.mean(), svc_cv_results_undersampled.mean(), svc_cv_results_upsampled.mean()])\n",
    "plt.axhline(y = mean([svc_cv_results_imbalanced.mean(), svc_cv_results_undersampled.mean(), svc_cv_results_upsampled.mean()]), color = 'r', linestyle = '-')\n",
    "plt.subplot(332)\n",
    "plt.gca().set_title('Naive bayes')\n",
    "plt.ylim(0.8, 1.00)\n",
    "plt.bar(['mean_acc_im', 'mean_acc_under', 'mean_acc_up'], [nb_cv_results_imbalanced.mean(), nb_cv_results_undersampled.mean(), nb_cv_results_upsampled.mean()])\n",
    "plt.axhline(y = mean([nb_cv_results_imbalanced.mean(), nb_cv_results_undersampled.mean(), nb_cv_results_upsampled.mean()]), color = 'r', linestyle = '-')\n",
    "plt.subplot(333)\n",
    "plt.gca().set_title('KNN')\n",
    "plt.ylim(0.8, 1.00)\n",
    "plt.bar(['mean_acc_im', 'mean_acc_under', 'mean_acc_up'], [knn_cv_results_imbalanced.mean(), knn_cv_results_undersampled.mean(), knn_cv_results_upsampled.mean()])\n",
    "plt.axhline(y = mean([knn_cv_results_imbalanced.mean(), knn_cv_results_undersampled.mean(), knn_cv_results_upsampled.mean()]), color = 'r', linestyle = '-')\n",
    "\n",
    "plt.subplot(334)\n",
    "plt.gca().set_title('Logistic regression')\n",
    "plt.ylim(0.8, 1.00)\n",
    "plt.bar(['mean_acc_im', 'mean_acc_under', 'mean_acc_up'], [lr_cv_results_imbalanced.mean(), lr_cv_results_undersampled.mean(), lr_cv_results_upsampled.mean()])\n",
    "plt.axhline(y = mean([lr_cv_results_imbalanced.mean(), lr_cv_results_undersampled.mean(), lr_cv_results_upsampled.mean()]), color = 'r', linestyle = '-')\n",
    "plt.subplot(335)\n",
    "plt.gca().set_title('Decision tree')\n",
    "plt.ylim(0.8, 1.00)\n",
    "plt.bar(['mean_acc_im', 'mean_acc_under', 'mean_acc_up'], [dt_cv_results_imbalanced.mean(), dt_cv_results_undersampled.mean(), dt_cv_results_upsampled.mean()])\n",
    "plt.axhline(y = mean([dt_cv_results_imbalanced.mean(), dt_cv_results_undersampled.mean(), dt_cv_results_upsampled.mean()]), color = 'r', linestyle = '-')\n",
    "plt.subplot(336)\n",
    "plt.gca().set_title('Gradient boost')\n",
    "plt.ylim(0.8, 1.00)\n",
    "plt.bar(['mean_acc_im', 'mean_acc_under', 'mean_acc_up'], [gb_cv_results_imbalanced.mean(), gb_cv_results_undersampled.mean(), gb_cv_results_upsampled.mean()])\n",
    "plt.axhline(y = mean([gb_cv_results_imbalanced.mean(), gb_cv_results_undersampled.mean(), gb_cv_results_upsampled.mean()]), color = 'r', linestyle = '-')\n",
    "\n",
    "plt.subplot(337)\n",
    "plt.gca().set_title('Random forest')\n",
    "plt.ylim(0.8, 1.00)\n",
    "plt.bar(['mean_acc_im', 'mean_acc_under', 'mean_acc_up'], [rf_cv_results_imbalanced.mean(), rf_cv_results_undersampled.mean(), rf_cv_results_upsampled.mean()])\n",
    "plt.axhline(y = mean([rf_cv_results_imbalanced.mean(), rf_cv_results_undersampled.mean(), rf_cv_results_upsampled.mean()]), color = 'r', linestyle = '-')\n",
    "plt.subplot(338)\n",
    "plt.gca().set_title('DummyClassifier')\n",
    "plt.ylim(0.4, 1.00)\n",
    "plt.bar(['mean_acc_im', 'mean_acc_under', 'mean_acc_up'], [dummy_cv_results_imbalanced.mean(), dummy_cv_results_undersampled.mean(), dummy_cv_results_upsampled.mean()])\n",
    "plt.axhline(y = mean([dummy_cv_results_imbalanced.mean(), dummy_cv_results_undersampled.mean(), dummy_cv_results_upsampled.mean()]), color = 'r', linestyle = '-')\n",
    "\n",
    "plt.show()"
   ]
  },
  {
   "cell_type": "markdown",
   "id": "cf990a49",
   "metadata": {},
   "source": [
    "### Selected algorithms: Gradient boost and Logistic regression"
   ]
  },
  {
   "cell_type": "markdown",
   "id": "6f6e4f8f",
   "metadata": {},
   "source": [
    "# Gradient boost"
   ]
  },
  {
   "cell_type": "markdown",
   "id": "3973149d",
   "metadata": {},
   "source": [
    "## Hyperparameters - definition\n",
    "\n",
    "### Tree-Specific parameters: (These affect each individual tree in the model)\n",
    "#### min_samples_split\n",
    "Defines the minimum number of samples (or observations) which are required in a node to be considered for splitting.\n",
    "Used to control over-fitting. Higher values prevent a model from learning relations which might be highly specific to the particular sample selected for a tree.\n",
    "Too high values can lead to under-fitting hence, it should be tuned using CV.\n",
    "\n",
    "#### min_samples_leaf\n",
    "Defines the minimum samples (or observations) required in a terminal node or leaf.\n",
    "Used to control over-fitting similar to min_samples_split.\n",
    "Generally lower values should be chosen for imbalanced class problems because the regions in which the minority class will be in majority will be very small.\n",
    "\n",
    "#### min_weight_fraction_leaf\n",
    "Similar to min_samples_leaf but defined as a fraction of the total number of observations instead of an integer.\n",
    "Only one of #2 and #3 should be defined.\n",
    "\n",
    "#### max_depth\n",
    "The maximum depth of a tree.\n",
    "Used to control over-fitting as higher depth will allow model to learn relations very specific to a particular sample.\n",
    "Should be tuned using CV.\n",
    "\n",
    "#### max_leaf_nodes\n",
    "The maximum number of terminal nodes or leaves in a tree.\n",
    "Can be defined in place of max_depth. Since binary trees are created, a depth of ‘n’ would produce a maximum of 2^n leaves.\n",
    "If this is defined, GBM will ignore max_depth.\n",
    "\n",
    "#### max_features\n",
    "The number of features to consider while searching for a best split. These will be randomly selected.\n",
    "As a thumb-rule, square root of the total number of features works great but we should check upto 30-40% of the total number of features.\n",
    "Higher values can lead to over-fitting but depends on case to case.\n",
    "\n",
    "### Boosting parameters: (These affect the boosting operation in the model)\n",
    "#### learning_rate:  (default = 0.1)\n",
    "This determines the impact of each tree on the final outcome (step 2.4). GBM works by starting with an initial estimate which is updated using the output of each tree. The learning parameter controls the magnitude of this change in the estimates.\n",
    "Lower values are generally preferred as they make the model robust to the specific characteristics of tree and thus allowing it to generalize well.\n",
    "Lower values would require higher number of trees to model all the relations and will be computationally expensive.\n",
    "\n",
    "#### n_estimators:\n",
    "The number of sequential trees to be modeled (step 2)\n",
    "Though GBM is fairly robust at higher number of trees but it can still overfit at a point. Hence, this should be tuned using CV for a particular learning rate.\n",
    "\n",
    "#### subsample\n",
    "The fraction of observations to be selected for each tree. Selection is done by random sampling.\n",
    "Values slightly less than 1 make the model robust by reducing the variance.\n",
    "Typical values ~0.8 generally work fine but can be fine-tuned further.\n",
    "\n",
    "### Miscellaneous Parameters: (Other parameters for overall functioning)\n",
    "#### loss\n",
    "It refers to the loss function to be minimized in each split.\n",
    "It can have various values for classification and regression case. Generally the default values work fine. Other values should be chosen only if you understand their impact on the model.\n",
    "\n",
    "#### init\n",
    "This affects initialization of the output.\n",
    "This can be used if we have made another model whose outcome is to be used as the initial estimates for GBM.\n",
    "\n",
    "#### random_state\n",
    "The random number seed so that same random numbers are generated every time.\n",
    "This is important for parameter tuning. If we don’t fix the random number, then we’ll have different outcomes for subsequent runs on the same parameters and it becomes difficult to compare models.\n",
    "It can potentially result in overfitting to a particular random sample selected. We can try running models for different random samples, which is computationally expensive and generally not used.\n",
    "\n",
    "#### verbose\n",
    "The type of output to be printed when the model fits. The different values can be:\n",
    "0: no output generated (default)\n",
    "1: output generated for trees in certain intervals\n",
    ">1: output generated for all trees\n",
    "\n",
    "#### warm_start\n",
    "This parameter has an interesting application and can help a lot if used judicially.\n",
    "Using this, we can fit additional trees on previous fits of a model. It can save a lot of time and you should explore this option for advanced applications\n",
    "\n",
    "#### presort \n",
    " Select whether to presort data for faster splits.\n",
    "It makes the selection automatically by default but it can be changed if needed."
   ]
  },
  {
   "cell_type": "markdown",
   "id": "b5146529",
   "metadata": {},
   "source": [
    "## Baseline Gradient boost"
   ]
  },
  {
   "cell_type": "code",
   "execution_count": 55,
   "id": "18ab3272",
   "metadata": {},
   "outputs": [
    {
     "name": "stdout",
     "output_type": "stream",
     "text": [
      "Accuracy :  0.984375\n",
      "F1 Score:  0.9821428571428571\n",
      "Precision:  0.9821428571428571\n",
      "Recall:  0.9821428571428571\n",
      "Confuse matrix:\n",
      "[[71  1]\n",
      " [ 1 55]]\n",
      "True positive:  55\n",
      "False positive:  1\n",
      "True negative:  71\n",
      "False negative:  1\n",
      "Sensitivity:  0.9821428571428571\n",
      "Specificity:  0.9861111111111112\n",
      "\n",
      "All Gradient Boost params:\n",
      "{'ccp_alpha': 0.0, 'criterion': 'friedman_mse', 'init': None, 'learning_rate': 0.1, 'loss': 'deviance', 'max_depth': 3, 'max_features': None, 'max_leaf_nodes': None, 'min_impurity_decrease': 0.0, 'min_impurity_split': None, 'min_samples_leaf': 1, 'min_samples_split': 2, 'min_weight_fraction_leaf': 0.0, 'n_estimators': 100, 'n_iter_no_change': None, 'random_state': None, 'subsample': 1.0, 'tol': 0.0001, 'validation_fraction': 0.1, 'verbose': 0, 'warm_start': False}\n"
     ]
    },
    {
     "data": {
      "image/png": "[encoded data removed]",
      "text/plain": [
       "<Figure size 432x288 with 1 Axes>"
      ]
     },
     "metadata": {
      "needs_background": "light"
     },
     "output_type": "display_data"
    }
   ],
   "source": [
    "gb_model = GradientBoostingClassifier()\n",
    "\n",
    "params = gb_model.get_params()\n",
    "\n",
    "gb_model.fit(X_train_upsampled, y_train_upsampled)\n",
    "gb_prediction_upsampled = gb_model.predict(X_test_upsampled)\n",
    "\n",
    "# model evaluation\n",
    "eval_model(y_test_upsampled, gb_prediction_upsampled)\n",
    "\n",
    "print()\n",
    "print(\"All Gradient Boost params:\")\n",
    "print(params)\n",
    "\n",
    "# Create confusion matrix\n",
    "matrix = confusion_matrix(y_test_upsampled, gb_prediction_upsampled)\n",
    "\n",
    "plot_conf_matrix(matrix)"
   ]
  },
  {
   "cell_type": "markdown",
   "id": "f958f3ea",
   "metadata": {},
   "source": [
    "## Hyperparameters tuning using randomized search"
   ]
  },
  {
   "cell_type": "code",
   "execution_count": 56,
   "id": "8460efad",
   "metadata": {
    "scrolled": false
   },
   "outputs": [
    {
     "name": "stdout",
     "output_type": "stream",
     "text": [
      "Best params:  {'subsample': 1.0, 'n_estimators': 50, 'min_samples_split': 33, 'min_samples_leaf': 5, 'max_features': 5, 'max_depth': 13, 'learning_rate': 0.15}\n",
      "Best score:  0.9746620978488483\n",
      "\n",
      "Accuracy :  1.0\n",
      "F1 Score:  1.0\n",
      "Precision:  1.0\n",
      "Recall:  1.0\n",
      "Confuse matrix:\n",
      "[[72  0]\n",
      " [ 0 56]]\n",
      "True positive:  56\n",
      "False positive:  0\n",
      "True negative:  72\n",
      "False negative:  0\n",
      "Sensitivity:  1.0\n",
      "Specificity:  1.0\n"
     ]
    },
    {
     "data": {
      "image/png": "[encoded data removed]",
      "text/plain": [
       "<Figure size 432x288 with 1 Axes>"
      ]
     },
     "metadata": {
      "needs_background": "light"
     },
     "output_type": "display_data"
    },
    {
     "data": {
      "image/png": "[encoded data removed]",
      "text/plain": [
       "<Figure size 432x288 with 1 Axes>"
      ]
     },
     "metadata": {
      "needs_background": "light"
     },
     "output_type": "display_data"
    }
   ],
   "source": [
    "# Create Gradient Boosting\n",
    "gb_classifier = GradientBoostingClassifier()\n",
    "\n",
    "# Create hyperparameters values\n",
    "learning_rate = [0.15, 0.1, 0.05, 0.01, 0.005, 0.001]\n",
    "n_estimators = [3, 7, 15, 20, 30, 50]\n",
    "subsample = [0.5, 0.75, 0.8, 0.95, 1.0]\n",
    "\n",
    "max_depth = uniform(loc=5, scale=20).rvs(10).astype(int)\n",
    "min_samples_split = uniform(loc=2, scale=60).rvs(15).astype(int)\n",
    "min_samples_leaf = [1, 3, 5, 7, 9]\n",
    "max_features = [3, 4, 5, 6, 7, 12]\n",
    "\n",
    "# Create hyperparameter options\n",
    "hyperparameters = dict(learning_rate=learning_rate, n_estimators=n_estimators,\n",
    "                       subsample=subsample, max_depth=max_depth, min_samples_split=min_samples_split,\n",
    "                      min_samples_leaf=min_samples_leaf, max_features=max_features)\n",
    "\n",
    "# Create randomized search\n",
    "randomizedsearch = RandomizedSearchCV(gb_classifier, hyperparameters, random_state=1, \n",
    "                                      n_iter=100, cv=5, verbose=0, n_jobs=-1)\n",
    "\n",
    "# Fit randomized search\n",
    "best_model = randomizedsearch.fit(X_train_upsampled, y_train_upsampled)\n",
    " \n",
    "print(\"Best params: \", randomizedsearch.best_params_)\n",
    "print(\"Best score: \", randomizedsearch.best_score_)\n",
    "print()\n",
    "\n",
    "rs_prediction_upsampled = best_model.predict(X_test_upsampled)\n",
    "\n",
    "# model evaluation\n",
    "eval_model(y_test_upsampled, rs_prediction_upsampled)\n",
    "\n",
    "# Create confusion matrix\n",
    "matrix = confusion_matrix(y_test_upsampled, rs_prediction_upsampled)\n",
    "\n",
    "plot_conf_matrix(matrix)\n",
    "\n",
    "auc_roc_plot(y_test_upsampled, rs_prediction_upsampled)"
   ]
  },
  {
   "cell_type": "markdown",
   "id": "61610fc1",
   "metadata": {},
   "source": [
    "### Efect of training set size"
   ]
  },
  {
   "cell_type": "code",
   "execution_count": 74,
   "id": "45aff819",
   "metadata": {},
   "outputs": [
    {
     "data": {
      "image/png": "[encoded data removed]",
      "text/plain": [
       "<Figure size 432x288 with 1 Axes>"
      ]
     },
     "metadata": {
      "needs_background": "light"
     },
     "output_type": "display_data"
    }
   ],
   "source": [
    "gb_classifier = GradientBoostingClassifier()\n",
    "gb_classifier.set_params(**best_model.best_estimator_.get_params())\n",
    "\n",
    "train_sizes, train_scores, test_scores = learning_curve(gb_classifier, X_train_upsampled, y_train_upsampled, cv=5,\n",
    "    scoring='accuracy', n_jobs=-1, train_sizes=np.linspace(0.01, 1.0, 50))\n",
    "\n",
    "# Create means and standard deviations of training set scores\n",
    "train_mean = np.mean(train_scores, axis=1)\n",
    "train_std = np.std(train_scores, axis=1)\n",
    "\n",
    "# Create means and standard deviations of test set scores\n",
    "test_mean = np.mean(test_scores, axis=1)\n",
    "test_std = np.std(test_scores, axis=1)\n",
    "\n",
    "# Draw lines\n",
    "plt.plot(train_sizes, train_mean, '--', color=\"#111111\", label=\"Training score\")\n",
    "plt.plot(train_sizes, test_mean, color=\"#111111\", label=\"Cross-validation score\")\n",
    "\n",
    "# Draw bands\n",
    "plt.fill_between(train_sizes, train_mean - train_std, train_mean + train_std, color=\"#DDDDDD\")\n",
    "plt.fill_between(train_sizes, test_mean - test_std, test_mean + test_std, color=\"#DDDDDD\")\n",
    "\n",
    "# Create plot\n",
    "plt.title(\"Learning Curve\")\n",
    "plt.xlabel(\"Training Set Size\"), plt.ylabel(\"Accuracy Score\"),\n",
    "plt.legend(loc=\"best\")\n",
    "plt.tight_layout()\n",
    "plt.show()"
   ]
  },
  {
   "cell_type": "markdown",
   "id": "b3a5de10",
   "metadata": {},
   "source": [
    "### Effect of hyperparameter values"
   ]
  },
  {
   "cell_type": "code",
   "execution_count": 58,
   "id": "b8f70cbc",
   "metadata": {},
   "outputs": [
    {
     "data": {
      "image/png": "[encoded data removed]",
      "text/plain": [
       "<Figure size 432x288 with 1 Axes>"
      ]
     },
     "metadata": {
      "needs_background": "light"
     },
     "output_type": "display_data"
    }
   ],
   "source": [
    "gb_classifier = GradientBoostingClassifier()\n",
    "gb_classifier.set_params(**best_model.best_estimator_.get_params())\n",
    "\n",
    "# Create range of values for parameter n_estimators\n",
    "param_range = np.arange(1, 70, 2)\n",
    "\n",
    "# Calculate accuracy on training and test set using range of parameter values\n",
    "train_scores, test_scores = validation_curve(\n",
    " # Classifier\n",
    " gb_classifier,\n",
    " # Feature matrix\n",
    " X_train_upsampled,\n",
    " # Target vector\n",
    " y_train_upsampled,\n",
    " # Hyperparameter to examine\n",
    " param_name=\"n_estimators\",\n",
    " # Range of hyperparameter's values\n",
    " param_range=param_range,\n",
    " # Number of folds\n",
    " cv=3,\n",
    " # Performance metric\n",
    " scoring=\"accuracy\",\n",
    " # Use all computer cores\n",
    " n_jobs=-1)\n",
    "\n",
    "# Calculate mean and standard deviation for training set scores\n",
    "train_mean = np.mean(train_scores, axis=1)\n",
    "train_std = np.std(train_scores, axis=1)\n",
    "\n",
    "# Calculate mean and standard deviation for test set scores\n",
    "test_mean = np.mean(test_scores, axis=1)\n",
    "test_std = np.std(test_scores, axis=1)\n",
    "\n",
    "# Plot mean accuracy scores for training and test sets\n",
    "plt.plot(param_range, train_mean, label=\"Training score\", color=\"black\")\n",
    "plt.plot(param_range, test_mean, label=\"Cross-validation score\", color=\"dimgrey\")\n",
    "\n",
    "# Plot accurancy bands for training and test sets\n",
    "plt.fill_between(param_range, train_mean - train_std, train_mean + train_std, color=\"gray\")\n",
    "plt.fill_between(param_range, test_mean - test_std, test_mean + test_std, color=\"gainsboro\")\n",
    "\n",
    "# Create plot\n",
    "plt.title(\"Validation Curve With Gradient boosting\")\n",
    "plt.xlabel(\"Number Of Trees\")\n",
    "plt.ylabel(\"Accuracy Score\")\n",
    "plt.tight_layout()\n",
    "plt.legend(loc=\"lower right\")\n",
    "plt.show()"
   ]
  },
  {
   "cell_type": "markdown",
   "id": "64e55837",
   "metadata": {},
   "source": [
    "### Feature importances"
   ]
  },
  {
   "cell_type": "code",
   "execution_count": 59,
   "id": "ad24fd5c",
   "metadata": {},
   "outputs": [
    {
     "data": {
      "image/png": "[encoded data removed]",
      "text/plain": [
       "<Figure size 432x288 with 1 Axes>"
      ]
     },
     "metadata": {
      "needs_background": "light"
     },
     "output_type": "display_data"
    }
   ],
   "source": [
    "# Calculate feature importances\n",
    "importances = best_model.best_estimator_.feature_importances_\n",
    "\n",
    "# Sort feature importances in descending order\n",
    "indices = np.argsort(importances)[::-1]\n",
    "\n",
    "# Rearrange feature names so they match the sorted feature importances\n",
    "names = [dataset.columns[i] for i in indices]\n",
    "\n",
    "# Create plot\n",
    "plt.figure()\n",
    "\n",
    "# Create plot title\n",
    "plt.title(\"Feature Importance\")\n",
    "\n",
    "# Add bars\n",
    "plt.bar(range(X_train_upsampled.shape[1]), importances[indices])\n",
    "\n",
    "# Add feature names as x-axis labels\n",
    "plt.xticks(range(X_train_upsampled.shape[1]), names, rotation=90)\n",
    "\n",
    "# Show plot\n",
    "plt.show()"
   ]
  },
  {
   "cell_type": "markdown",
   "id": "e24fb428",
   "metadata": {},
   "source": [
    "### Recursive feature elimination - RFE (Dimensionality reduction)"
   ]
  },
  {
   "cell_type": "code",
   "execution_count": 60,
   "id": "aea1f712",
   "metadata": {
    "scrolled": false
   },
   "outputs": [
    {
     "name": "stdout",
     "output_type": "stream",
     "text": [
      "Age\n",
      "Gender\n",
      "Polyuria\n",
      "Polydipsia\n",
      "Irritability\n"
     ]
    }
   ],
   "source": [
    "gb_classifier = GradientBoostingClassifier()\n",
    "gb_classifier.set_params(**best_model.best_estimator_.get_params()) \n",
    "\n",
    "rfe_model = RFE(gb_classifier, n_features_to_select = 5)\n",
    "\n",
    "rfe_prediction = rfe_model.fit(X_train_upsampled, y_train_upsampled)\n",
    "feature_list = rfe_prediction.get_support(indices=True)\n",
    "key_columns = []\n",
    "for feature in feature_list:\n",
    "    print(df_upsampled.columns[feature])\n",
    "    key_columns.append(df_upsampled.columns[feature])\n",
    "key_columns.append(\"class\")"
   ]
  },
  {
   "cell_type": "code",
   "execution_count": 61,
   "id": "31c8edde",
   "metadata": {},
   "outputs": [
    {
     "data": {
      "text/html": [
       "<div>\n",
       "<style scoped>\n",
       "    .dataframe tbody tr th:only-of-type {\n",
       "        vertical-align: middle;\n",
       "    }\n",
       "\n",
       "    .dataframe tbody tr th {\n",
       "        vertical-align: top;\n",
       "    }\n",
       "\n",
       "    .dataframe thead th {\n",
       "        text-align: right;\n",
       "    }\n",
       "</style>\n",
       "<table border=\"1\" class=\"dataframe\">\n",
       "  <thead>\n",
       "    <tr style=\"text-align: right;\">\n",
       "      <th></th>\n",
       "      <th>Age</th>\n",
       "      <th>Gender</th>\n",
       "      <th>Polyuria</th>\n",
       "      <th>Polydipsia</th>\n",
       "      <th>Irritability</th>\n",
       "      <th>class</th>\n",
       "    </tr>\n",
       "  </thead>\n",
       "  <tbody>\n",
       "    <tr>\n",
       "      <th>0</th>\n",
       "      <td>40</td>\n",
       "      <td>1</td>\n",
       "      <td>0</td>\n",
       "      <td>1</td>\n",
       "      <td>0</td>\n",
       "      <td>1</td>\n",
       "    </tr>\n",
       "    <tr>\n",
       "      <th>1</th>\n",
       "      <td>58</td>\n",
       "      <td>1</td>\n",
       "      <td>0</td>\n",
       "      <td>0</td>\n",
       "      <td>0</td>\n",
       "      <td>1</td>\n",
       "    </tr>\n",
       "    <tr>\n",
       "      <th>2</th>\n",
       "      <td>41</td>\n",
       "      <td>1</td>\n",
       "      <td>1</td>\n",
       "      <td>0</td>\n",
       "      <td>0</td>\n",
       "      <td>1</td>\n",
       "    </tr>\n",
       "    <tr>\n",
       "      <th>3</th>\n",
       "      <td>45</td>\n",
       "      <td>1</td>\n",
       "      <td>0</td>\n",
       "      <td>0</td>\n",
       "      <td>0</td>\n",
       "      <td>1</td>\n",
       "    </tr>\n",
       "    <tr>\n",
       "      <th>4</th>\n",
       "      <td>60</td>\n",
       "      <td>1</td>\n",
       "      <td>1</td>\n",
       "      <td>1</td>\n",
       "      <td>1</td>\n",
       "      <td>1</td>\n",
       "    </tr>\n",
       "  </tbody>\n",
       "</table>\n",
       "</div>"
      ],
      "text/plain": [
       "   Age  Gender  Polyuria  Polydipsia  Irritability  class\n",
       "0   40       1         0           1             0      1\n",
       "1   58       1         0           0             0      1\n",
       "2   41       1         1           0             0      1\n",
       "3   45       1         0           0             0      1\n",
       "4   60       1         1           1             1      1"
      ]
     },
     "execution_count": 61,
     "metadata": {},
     "output_type": "execute_result"
    }
   ],
   "source": [
    "columns_to_remove = []\n",
    "df_rfe = df_upsampled.copy(deep=True)\n",
    "for column in df_rfe.columns:\n",
    "    if column not in key_columns:\n",
    "        columns_to_remove.append(column)\n",
    "        \n",
    "rfe_removed = df_rfe.drop(columns_to_remove, axis=1)\n",
    "rfe_removed.head()"
   ]
  },
  {
   "cell_type": "code",
   "execution_count": 62,
   "id": "78de4be0",
   "metadata": {},
   "outputs": [
    {
     "name": "stdout",
     "output_type": "stream",
     "text": [
      "Accuracy :  0.96875\n",
      "F1 Score:  0.9636363636363636\n",
      "Precision:  0.9814814814814815\n",
      "Recall:  0.9464285714285714\n",
      "Confuse matrix:\n",
      "[[71  1]\n",
      " [ 3 53]]\n",
      "True positive:  53\n",
      "False positive:  1\n",
      "True negative:  71\n",
      "False negative:  3\n",
      "Sensitivity:  0.9464285714285714\n",
      "Specificity:  0.9861111111111112\n"
     ]
    },
    {
     "data": {
      "image/png": "[encoded data removed]",
      "text/plain": [
       "<Figure size 432x288 with 1 Axes>"
      ]
     },
     "metadata": {
      "needs_background": "light"
     },
     "output_type": "display_data"
    }
   ],
   "source": [
    "X = rfe_removed.drop(\"class\", axis = 1).values\n",
    "y = rfe_removed[\"class\"].values\n",
    "X_train_rfe, X_test_rfe, y_train_rfe, y_test_rfe = train_test_split(X, y, test_size = 0.2, random_state = 1)\n",
    "\n",
    "rfe_best_model = GradientBoostingClassifier()\n",
    "rfe_best_model.set_params(**best_model.best_estimator_.get_params())\n",
    "rfe_best_model.fit(X_train_rfe, y_train_rfe)\n",
    "rfe_prediction = rfe_best_model.predict(X_test_rfe)\n",
    "\n",
    "eval_model(y_test_upsampled, rfe_prediction)\n",
    "\n",
    "auc_roc_plot(y_test_upsampled, rfe_prediction)"
   ]
  },
  {
   "cell_type": "markdown",
   "id": "3dc6aaba",
   "metadata": {},
   "source": [
    "### Principal component analysis - PCA (Dimensionality reduction)"
   ]
  },
  {
   "cell_type": "code",
   "execution_count": 63,
   "id": "15df326d",
   "metadata": {},
   "outputs": [
    {
     "name": "stdout",
     "output_type": "stream",
     "text": [
      "Accuracy :  0.9609375\n",
      "F1 Score:  0.9557522123893805\n",
      "Precision:  0.9473684210526315\n",
      "Recall:  0.9642857142857143\n",
      "Confuse matrix:\n",
      "[[69  3]\n",
      " [ 2 54]]\n",
      "True positive:  54\n",
      "False positive:  3\n",
      "True negative:  69\n",
      "False negative:  2\n",
      "Sensitivity:  0.9642857142857143\n",
      "Specificity:  0.9583333333333334\n"
     ]
    },
    {
     "data": {
      "image/png": "[encoded data removed]",
      "text/plain": [
       "<Figure size 432x288 with 1 Axes>"
      ]
     },
     "metadata": {
      "needs_background": "light"
     },
     "output_type": "display_data"
    }
   ],
   "source": [
    "pca = PCA(n_components = 6)\n",
    "X_train_upsampled_pca = pca.fit_transform(X_train_upsampled)\n",
    "X_test_upsampled_pca = pca.transform(X_test_upsampled)\n",
    "\n",
    "gb_classifier = GradientBoostingClassifier()\n",
    "gb_classifier.set_params(**best_model.best_estimator_.get_params()) \n",
    "\n",
    "gb_classifier.fit(X_train_upsampled_pca, y_train_upsampled)\n",
    "pca_prediction = gb_classifier.predict(X_test_upsampled_pca)\n",
    "\n",
    "eval_model(y_test_upsampled, pca_prediction)\n",
    "\n",
    "auc_roc_plot(y_test_upsampled, pca_prediction)"
   ]
  },
  {
   "cell_type": "markdown",
   "id": "216dcbac",
   "metadata": {},
   "source": [
    "# Logistic regression"
   ]
  },
  {
   "cell_type": "markdown",
   "id": "7a35c05c",
   "metadata": {},
   "source": [
    "## Hyperparameters"
   ]
  },
  {
   "cell_type": "markdown",
   "id": "bfded419",
   "metadata": {},
   "source": [
    "#### Solver - {‘newton-cg’, ‘lbfgs’, ‘liblinear’, ‘sag’, ‘saga’}\n",
    "    Algorithm to use in the optimization problem. Default is ‘lbfgs’. To choose a solver, you might want to consider the \n",
    "    following aspects:\n",
    "        - For small datasets, ‘liblinear’ is a good choice, whereas ‘sag’ and ‘saga’ are faster for large ones;\n",
    "        - For multiclass problems, only ‘newton-cg’, ‘sag’, ‘saga’ and ‘lbfgs’ handle multinomial loss;\n",
    "        - ‘liblinear’ is limited to one-versus-rest schemes.\n",
    "#### C\n",
    "    Inverse of regularization strength; must be a positive float. Like in support vector machines, smaller values specify \n",
    "    stronger regularization.\n",
    "#### Penalty - {‘l1’, ‘l2’, ‘elasticnet’, ‘none’}\n",
    "    'none': no penalty is added;\n",
    "    'l2': add a L2 penalty term and it is the default choice;\n",
    "    'l1': add a L1 penalty term;\n",
    "    'elasticnet': both L1 and L2 penalty terms are added  "
   ]
  },
  {
   "cell_type": "markdown",
   "id": "9247999c",
   "metadata": {},
   "source": [
    "## Baseline Logistic regression"
   ]
  },
  {
   "cell_type": "code",
   "execution_count": 64,
   "id": "c1629d70",
   "metadata": {
    "scrolled": false
   },
   "outputs": [
    {
     "name": "stdout",
     "output_type": "stream",
     "text": [
      "Accuracy :  0.9230769230769231\n",
      "F1 Score:  0.9393939393939394\n",
      "Precision:  0.9393939393939394\n",
      "Recall:  0.9393939393939394\n",
      "Confuse matrix:\n",
      "[[34  4]\n",
      " [ 4 62]]\n",
      "True positive:  62\n",
      "False positive:  4\n",
      "True negative:  34\n",
      "False negative:  4\n",
      "Sensitivity:  0.9393939393939394\n",
      "Specificity:  0.8947368421052632\n"
     ]
    },
    {
     "data": {
      "image/png": "[encoded data removed]",
      "text/plain": [
       "<Figure size 432x288 with 1 Axes>"
      ]
     },
     "metadata": {
      "needs_background": "light"
     },
     "output_type": "display_data"
    }
   ],
   "source": [
    "scaler = StandardScaler()\n",
    "lg_classifier = LogisticRegression()\n",
    "\n",
    "X_train_imbalanced_transformed = scaler.fit_transform(X_train_imbalanced)\n",
    "X_test_imbalanced_transformed = scaler.transform(X_test_imbalanced)\n",
    "\n",
    "lg_classifier.fit(X_train_imbalanced_transformed, y_train_imbalanced)\n",
    "lg_prediction_upsampled = lg_classifier.predict(X_test_imbalanced_transformed)\n",
    "\n",
    "# model evaluation\n",
    "eval_model(y_test_imbalanced, lg_prediction_upsampled)\n",
    "\n",
    "# Create confusion matrix\n",
    "matrix = confusion_matrix(y_test_imbalanced, lg_prediction_upsampled)\n",
    "plot_conf_matrix(matrix)"
   ]
  },
  {
   "cell_type": "markdown",
   "id": "c4384153",
   "metadata": {},
   "source": [
    "## Hyperparameters tuning using randomized search"
   ]
  },
  {
   "cell_type": "code",
   "execution_count": 65,
   "id": "c33937c2",
   "metadata": {},
   "outputs": [
    {
     "name": "stdout",
     "output_type": "stream",
     "text": [
      "Best params:  {'C': 1.0, 'penalty': 'l2', 'solver': 'liblinear'}\n",
      "Best score:  0.9179897201599087\n",
      "\n",
      "Accuracy :  0.9375\n",
      "F1 Score:  0.9310344827586207\n",
      "Precision:  0.9\n",
      "Recall:  0.9642857142857143\n",
      "Confuse matrix:\n",
      "[[66  6]\n",
      " [ 2 54]]\n",
      "True positive:  54\n",
      "False positive:  6\n",
      "True negative:  66\n",
      "False negative:  2\n",
      "Sensitivity:  0.9642857142857143\n",
      "Specificity:  0.9166666666666666\n"
     ]
    },
    {
     "data": {
      "image/png": "[encoded data removed]",
      "text/plain": [
       "<Figure size 432x288 with 1 Axes>"
      ]
     },
     "metadata": {
      "needs_background": "light"
     },
     "output_type": "display_data"
    },
    {
     "data": {
      "image/png": "[encoded data removed]",
      "text/plain": [
       "<Figure size 432x288 with 1 Axes>"
      ]
     },
     "metadata": {
      "needs_background": "light"
     },
     "output_type": "display_data"
    }
   ],
   "source": [
    "scaler = StandardScaler()\n",
    "lr_classifier = LogisticRegression()\n",
    "\n",
    "X_train_upsampled_transformed = scaler.fit_transform(X_train_upsampled)\n",
    "X_test_upsampled_transformed = scaler.transform(X_test_upsampled)\n",
    "\n",
    "solver = ['liblinear']\n",
    "penalty = ['l1', 'l2']\n",
    "C = np.logspace(0, 4, 10)\n",
    "\n",
    "hyperparameters = dict(solver=solver, C=C, penalty=penalty)\n",
    "\n",
    "# Create grid search\n",
    "gridsearch = GridSearchCV(lr_classifier, hyperparameters, cv=5, verbose=0, n_jobs=-1)\n",
    "\n",
    "# Fit grid search\n",
    "gs_best_model = gridsearch.fit(X_train_upsampled_transformed, y_train_upsampled)\n",
    "\n",
    "print(\"Best params: \", gridsearch.best_params_)\n",
    "print(\"Best score: \", gridsearch.best_score_)\n",
    "print()\n",
    "\n",
    "lr_prediction_upsampled = gs_best_model.predict(X_test_upsampled_transformed)\n",
    "\n",
    "# model evaluation\n",
    "eval_model(y_test_upsampled, lr_prediction_upsampled)\n",
    "\n",
    "# Create confusion matrix\n",
    "matrix = confusion_matrix(y_test_upsampled, lr_prediction_upsampled)\n",
    "plot_conf_matrix(matrix)\n",
    "\n",
    "# Roc-auc curve\n",
    "auc_roc_plot(y_test_upsampled, lr_prediction_upsampled)"
   ]
  },
  {
   "cell_type": "markdown",
   "id": "ac7d4fd9",
   "metadata": {},
   "source": [
    "### Recursive feature elimination - RFE (Dimensionality reduction)"
   ]
  },
  {
   "cell_type": "code",
   "execution_count": 66,
   "id": "196f7558",
   "metadata": {},
   "outputs": [
    {
     "name": "stdout",
     "output_type": "stream",
     "text": [
      "Age\n",
      "Gender\n",
      "Polyuria\n",
      "Polydipsia\n",
      "sudden weight loss\n",
      "Polyphagia\n",
      "Genital thrush\n",
      "visual blurring\n",
      "Itching\n",
      "Irritability\n",
      "delayed healing\n",
      "muscle stiffness\n"
     ]
    }
   ],
   "source": [
    "lr_classifier = LogisticRegression()\n",
    "lr_classifier.set_params(**gs_best_model.best_estimator_.get_params())\n",
    "\n",
    "rfe_model = RFE(lr_classifier, n_features_to_select = 12)\n",
    "\n",
    "rfe_prediction = rfe_model.fit(X_train_upsampled_transformed, y_train_upsampled)\n",
    "feature_list = rfe_prediction.get_support(indices=True)\n",
    "key_columns = []\n",
    "for feature in feature_list:\n",
    "    print(df_upsampled.columns[feature])\n",
    "    key_columns.append(df_upsampled.columns[feature])\n",
    "key_columns.append(\"class\")"
   ]
  },
  {
   "cell_type": "code",
   "execution_count": 67,
   "id": "4393155b",
   "metadata": {},
   "outputs": [
    {
     "data": {
      "text/html": [
       "<div>\n",
       "<style scoped>\n",
       "    .dataframe tbody tr th:only-of-type {\n",
       "        vertical-align: middle;\n",
       "    }\n",
       "\n",
       "    .dataframe tbody tr th {\n",
       "        vertical-align: top;\n",
       "    }\n",
       "\n",
       "    .dataframe thead th {\n",
       "        text-align: right;\n",
       "    }\n",
       "</style>\n",
       "<table border=\"1\" class=\"dataframe\">\n",
       "  <thead>\n",
       "    <tr style=\"text-align: right;\">\n",
       "      <th></th>\n",
       "      <th>Age</th>\n",
       "      <th>Gender</th>\n",
       "      <th>Polyuria</th>\n",
       "      <th>Polydipsia</th>\n",
       "      <th>sudden weight loss</th>\n",
       "      <th>Polyphagia</th>\n",
       "      <th>Genital thrush</th>\n",
       "      <th>visual blurring</th>\n",
       "      <th>Itching</th>\n",
       "      <th>Irritability</th>\n",
       "      <th>delayed healing</th>\n",
       "      <th>muscle stiffness</th>\n",
       "      <th>class</th>\n",
       "    </tr>\n",
       "  </thead>\n",
       "  <tbody>\n",
       "    <tr>\n",
       "      <th>0</th>\n",
       "      <td>40</td>\n",
       "      <td>1</td>\n",
       "      <td>0</td>\n",
       "      <td>1</td>\n",
       "      <td>0</td>\n",
       "      <td>0</td>\n",
       "      <td>0</td>\n",
       "      <td>0</td>\n",
       "      <td>1</td>\n",
       "      <td>0</td>\n",
       "      <td>1</td>\n",
       "      <td>1</td>\n",
       "      <td>1</td>\n",
       "    </tr>\n",
       "    <tr>\n",
       "      <th>1</th>\n",
       "      <td>58</td>\n",
       "      <td>1</td>\n",
       "      <td>0</td>\n",
       "      <td>0</td>\n",
       "      <td>0</td>\n",
       "      <td>0</td>\n",
       "      <td>0</td>\n",
       "      <td>1</td>\n",
       "      <td>0</td>\n",
       "      <td>0</td>\n",
       "      <td>0</td>\n",
       "      <td>0</td>\n",
       "      <td>1</td>\n",
       "    </tr>\n",
       "    <tr>\n",
       "      <th>2</th>\n",
       "      <td>41</td>\n",
       "      <td>1</td>\n",
       "      <td>1</td>\n",
       "      <td>0</td>\n",
       "      <td>0</td>\n",
       "      <td>1</td>\n",
       "      <td>0</td>\n",
       "      <td>0</td>\n",
       "      <td>1</td>\n",
       "      <td>0</td>\n",
       "      <td>1</td>\n",
       "      <td>1</td>\n",
       "      <td>1</td>\n",
       "    </tr>\n",
       "    <tr>\n",
       "      <th>3</th>\n",
       "      <td>45</td>\n",
       "      <td>1</td>\n",
       "      <td>0</td>\n",
       "      <td>0</td>\n",
       "      <td>1</td>\n",
       "      <td>1</td>\n",
       "      <td>1</td>\n",
       "      <td>0</td>\n",
       "      <td>1</td>\n",
       "      <td>0</td>\n",
       "      <td>1</td>\n",
       "      <td>0</td>\n",
       "      <td>1</td>\n",
       "    </tr>\n",
       "    <tr>\n",
       "      <th>4</th>\n",
       "      <td>60</td>\n",
       "      <td>1</td>\n",
       "      <td>1</td>\n",
       "      <td>1</td>\n",
       "      <td>1</td>\n",
       "      <td>1</td>\n",
       "      <td>0</td>\n",
       "      <td>1</td>\n",
       "      <td>1</td>\n",
       "      <td>1</td>\n",
       "      <td>1</td>\n",
       "      <td>1</td>\n",
       "      <td>1</td>\n",
       "    </tr>\n",
       "  </tbody>\n",
       "</table>\n",
       "</div>"
      ],
      "text/plain": [
       "   Age  Gender  Polyuria  Polydipsia  sudden weight loss  Polyphagia  \\\n",
       "0   40       1         0           1                   0           0   \n",
       "1   58       1         0           0                   0           0   \n",
       "2   41       1         1           0                   0           1   \n",
       "3   45       1         0           0                   1           1   \n",
       "4   60       1         1           1                   1           1   \n",
       "\n",
       "   Genital thrush  visual blurring  Itching  Irritability  delayed healing  \\\n",
       "0               0                0        1             0                1   \n",
       "1               0                1        0             0                0   \n",
       "2               0                0        1             0                1   \n",
       "3               1                0        1             0                1   \n",
       "4               0                1        1             1                1   \n",
       "\n",
       "   muscle stiffness  class  \n",
       "0                 1      1  \n",
       "1                 0      1  \n",
       "2                 1      1  \n",
       "3                 0      1  \n",
       "4                 1      1  "
      ]
     },
     "execution_count": 67,
     "metadata": {},
     "output_type": "execute_result"
    }
   ],
   "source": [
    "columns_to_remove = []\n",
    "df_rfe = df_upsampled.copy(deep=True)\n",
    "for column in df_rfe.columns:\n",
    "    if column not in key_columns:\n",
    "        columns_to_remove.append(column)\n",
    "        \n",
    "rfe_removed = df_rfe.drop(columns_to_remove, axis=1)\n",
    "rfe_removed.head()"
   ]
  },
  {
   "cell_type": "code",
   "execution_count": 68,
   "id": "69c1c2dc",
   "metadata": {},
   "outputs": [
    {
     "name": "stdout",
     "output_type": "stream",
     "text": [
      "Accuracy :  0.9296875\n",
      "F1 Score:  0.9174311926605505\n",
      "Precision:  0.9433962264150944\n",
      "Recall:  0.8928571428571429\n",
      "Confuse matrix:\n",
      "[[69  3]\n",
      " [ 6 50]]\n",
      "True positive:  50\n",
      "False positive:  3\n",
      "True negative:  69\n",
      "False negative:  6\n",
      "Sensitivity:  0.8928571428571429\n",
      "Specificity:  0.9583333333333334\n"
     ]
    },
    {
     "data": {
      "image/png": "[encoded data removed]",
      "text/plain": [
       "<Figure size 432x288 with 1 Axes>"
      ]
     },
     "metadata": {
      "needs_background": "light"
     },
     "output_type": "display_data"
    }
   ],
   "source": [
    "X = rfe_removed.drop(\"class\", axis = 1).values\n",
    "y = rfe_removed[\"class\"].values\n",
    "X_train_rfe, X_test_rfe, y_train_rfe, y_test_rfe = train_test_split(X, y, test_size = 0.2, random_state = 1)\n",
    "\n",
    "lr_classifier = LogisticRegression()\n",
    "lr_classifier.set_params(**gs_best_model.best_estimator_.get_params())\n",
    "lr_classifier.fit(X_train_rfe, y_train_rfe)\n",
    "rfe_prediction = lr_classifier.predict(X_test_rfe)\n",
    "\n",
    "eval_model(y_test_upsampled, rfe_prediction)\n",
    "\n",
    "auc_roc_plot(y_test_upsampled, rfe_prediction)"
   ]
  },
  {
   "cell_type": "markdown",
   "id": "bd6c6805",
   "metadata": {},
   "source": [
    "### Principal component analysis - PCA (Dimensionality reduction)"
   ]
  },
  {
   "cell_type": "code",
   "execution_count": 69,
   "id": "dca278dc",
   "metadata": {},
   "outputs": [
    {
     "name": "stdout",
     "output_type": "stream",
     "text": [
      "Accuracy :  0.9296875\n",
      "F1 Score:  0.9158878504672897\n",
      "Precision:  0.9607843137254902\n",
      "Recall:  0.875\n",
      "Confuse matrix:\n",
      "[[70  2]\n",
      " [ 7 49]]\n",
      "True positive:  49\n",
      "False positive:  2\n",
      "True negative:  70\n",
      "False negative:  7\n",
      "Sensitivity:  0.875\n",
      "Specificity:  0.9722222222222222\n"
     ]
    },
    {
     "data": {
      "image/png": "[encoded data removed]",
      "text/plain": [
       "<Figure size 432x288 with 1 Axes>"
      ]
     },
     "metadata": {
      "needs_background": "light"
     },
     "output_type": "display_data"
    }
   ],
   "source": [
    "pca = PCA(n_components = 12)\n",
    "X_train_upsampled_pca = pca.fit_transform(X_train_upsampled_transformed)\n",
    "X_test_upsampled_pca = pca.transform(X_test_upsampled_transformed)\n",
    "\n",
    "lr_classifier = LogisticRegression()\n",
    "lr_classifier.set_params(**gs_best_model.best_estimator_.get_params()) \n",
    "\n",
    "lr_classifier.fit(X_train_upsampled_pca, y_train_upsampled)\n",
    "pca_prediction = lr_classifier.predict(X_test_upsampled_pca)\n",
    "\n",
    "eval_model(y_test_upsampled, pca_prediction)\n",
    "\n",
    "auc_roc_plot(y_test_upsampled, pca_prediction)"
   ]
  }
 ],
 "metadata": {
  "kernelspec": {
   "display_name": "Python 3 (ipykernel)",
   "language": "python",
   "name": "python3"
  },
  "language_info": {
   "codemirror_mode": {
    "name": "ipython",
    "version": 3
   },
   "file_extension": ".py",
   "mimetype": "text/x-python",
   "name": "python",
   "nbconvert_exporter": "python",
   "pygments_lexer": "ipython3",
   "version": "3.9.7"
  }
 },
 "nbformat": 4,
 "nbformat_minor": 5
}
